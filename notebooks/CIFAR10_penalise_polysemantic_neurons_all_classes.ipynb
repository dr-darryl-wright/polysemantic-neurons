{
 "cells": [
  {
   "cell_type": "code",
   "execution_count": 1,
   "id": "613a3912",
   "metadata": {},
   "outputs": [],
   "source": [
    "import os\n",
    "import itertools\n",
    "import matplotlib\n",
    "\n",
    "import numpy as np\n",
    "import tensorflow as tf\n",
    "import matplotlib.pyplot as plt\n",
    "import tensorflow.keras.backend as K\n",
    "\n",
    "from tqdm import tqdm\n",
    "from scipy.spatial import distance"
   ]
  },
  {
   "cell_type": "code",
   "execution_count": 2,
   "id": "377bb624",
   "metadata": {},
   "outputs": [],
   "source": [
    "font = {'family' : 'normal',\n",
    "        'weight' : 'bold',\n",
    "        'size'   : 22}\n",
    "\n",
    "matplotlib.rc('font', **font)"
   ]
  },
  {
   "cell_type": "code",
   "execution_count": 3,
   "id": "15b69400",
   "metadata": {},
   "outputs": [],
   "source": [
    "np.random.seed(0)"
   ]
  },
  {
   "cell_type": "code",
   "execution_count": 4,
   "id": "56e08335",
   "metadata": {},
   "outputs": [
    {
     "name": "stdout",
     "output_type": "stream",
     "text": [
      "(50000, 3072)\n",
      "(10000, 3072)\n"
     ]
    }
   ],
   "source": [
    "(x_train, y_train), (x_test, y_test) = tf.keras.datasets.cifar10.load_data()\n",
    "\n",
    "x_train = x_train / 255.\n",
    "x_test = x_test / 255.\n",
    "\n",
    "y_train = tf.keras.utils.to_categorical(y_train, 10)\n",
    "y_test = tf.keras.utils.to_categorical(y_test, 10)\n",
    "\n",
    "y_train = np.argmax(y_train, axis=1)\n",
    "\n",
    "order = np.random.permutation(len(x_train))\n",
    "\n",
    "x_train = x_train[order]\n",
    "y_train = y_train[order]\n",
    "\n",
    "\n",
    "y_train = tf.keras.utils.to_categorical(y_train, 10)\n",
    "\n",
    "x_train_reshape = [x_train[i].reshape((3072)) for i in range(len(x_train))]\n",
    "print(np.array(x_train_reshape).shape)\n",
    "\n",
    "x_test_reshape = [x_test[i].reshape((3072)) for i in range(len(x_test))]\n",
    "print(np.array(x_test_reshape).shape)"
   ]
  },
  {
   "cell_type": "code",
   "execution_count": 5,
   "id": "6945ac65",
   "metadata": {},
   "outputs": [],
   "source": [
    "n_hidden_neurons = 64\n",
    "lr = 0.01\n",
    "epochs = 200\n",
    "batch_size = 8\n",
    "limit = 4096 # number of training examples to use.\n",
    "alpha = 1.0 # penalise polysemantic neurons."
   ]
  },
  {
   "cell_type": "code",
   "execution_count": 6,
   "id": "1582d806",
   "metadata": {},
   "outputs": [],
   "source": [
    "assert (limit % 8 == 0)"
   ]
  },
  {
   "cell_type": "code",
   "execution_count": 7,
   "id": "6eb870e4",
   "metadata": {},
   "outputs": [
    {
     "name": "stderr",
     "output_type": "stream",
     "text": [
      "2022-05-24 07:22:17.944145: I tensorflow/core/platform/cpu_feature_guard.cc:142] Your CPU supports instructions that this TensorFlow binary was not compiled to use: AVX2 FMA\n",
      "2022-05-24 07:22:17.958729: I tensorflow/compiler/xla/service/service.cc:168] XLA service 0x7f8746c83460 initialized for platform Host (this does not guarantee that XLA will be used). Devices:\n",
      "2022-05-24 07:22:17.958750: I tensorflow/compiler/xla/service/service.cc:176]   StreamExecutor device (0): Host, Default Version\n"
     ]
    }
   ],
   "source": [
    "i = tf.keras.layers.Input(shape=(32*32*3,))\n",
    "i2 = tf.keras.layers.Input(shape=(10,))\n",
    "e = tf.keras.layers.Dense(n_hidden_neurons, activation='relu', name='dense_1')(i)\n",
    "o = tf.keras.layers.Dense(10, activation='softmax', name='softmax')(e)\n",
    "model = tf.keras.Model(inputs=[i, i2], outputs=o)"
   ]
  },
  {
   "cell_type": "markdown",
   "id": "d6d2640d",
   "metadata": {},
   "source": [
    "### define polysemantic loss"
   ]
  },
  {
   "cell_type": "code",
   "execution_count": 8,
   "id": "40c4f629",
   "metadata": {},
   "outputs": [],
   "source": [
    "def calculate_term(e, c0, c1):\n",
    "    a = K.expand_dims(e[c0] / (K.max(K.abs(e[c0])) + 1e-9))\n",
    "    b = K.expand_dims(e[c1] / (K.max(K.abs(e[c1])) + 1e-9))\n",
    "    return K.dot(K.transpose(a), b)"
   ]
  },
  {
   "cell_type": "code",
   "execution_count": 9,
   "id": "4aa03c6e",
   "metadata": {},
   "outputs": [],
   "source": [
    "#https://stackoverflow.com/questions/62454500/how-to-use-tensorflow-custom-loss-for-a-keras-model\n",
    "def my_loss(y_true, y_pred, e, c0, c1, alpha):\n",
    "    p_loss = 0\n",
    "    for i in range(len(c0)):\n",
    "       p_loss += (1. - (tf.cast(tf.equal(K.argmax(y_true[c0[i]]), K.argmax(y_true[c1[i]])), dtype='float32'))) \\\n",
    "              * calculate_term(e, c0[i], c1[i])\n",
    "    loss = tf.keras.losses.CategoricalCrossentropy(from_logits=False)(y_true=y_true, \n",
    "                                                                      y_pred=y_pred)\n",
    "    loss += alpha * (p_loss / len(c0))\n",
    "    return loss"
   ]
  },
  {
   "cell_type": "markdown",
   "id": "0a835c01",
   "metadata": {},
   "source": [
    "### precalculate all indices for batch_size choose 2 pairs"
   ]
  },
  {
   "cell_type": "code",
   "execution_count": 10,
   "id": "cd19bc71",
   "metadata": {},
   "outputs": [],
   "source": [
    "c0, c1 = [], []\n",
    "for c in list(itertools.combinations(range(batch_size), 2)):\n",
    "    c0.append(c[0])\n",
    "    c1.append(c[1])"
   ]
  },
  {
   "cell_type": "code",
   "execution_count": 11,
   "id": "4fd423ac",
   "metadata": {},
   "outputs": [
    {
     "name": "stdout",
     "output_type": "stream",
     "text": [
      "28\n"
     ]
    }
   ],
   "source": [
    "print(len(c0))"
   ]
  },
  {
   "cell_type": "code",
   "execution_count": 12,
   "id": "5dc6d9b3",
   "metadata": {},
   "outputs": [],
   "source": [
    "model.add_loss(my_loss(i2, o, e, np.array(c0, dtype='int32'), np.array(c1, dtype='int32'), alpha))"
   ]
  },
  {
   "cell_type": "code",
   "execution_count": 13,
   "id": "ede7015a",
   "metadata": {},
   "outputs": [
    {
     "name": "stdout",
     "output_type": "stream",
     "text": [
      "WARNING:tensorflow:Output softmax missing from loss dictionary. We assume this was done on purpose. The fit and evaluate APIs will not be expecting any data to be passed to softmax.\n"
     ]
    }
   ],
   "source": [
    "def my_acc(y_true, y_pred):\n",
    "    y_pred = tf.cast(tf.math.greater(y_pred, tf.constant([0.5])), dtype='float32')\n",
    "    return tf.cast(tf.math.equal(y_true, y_pred), dtype='float32')\n",
    "\n",
    "def cce(y_true, y_pred):\n",
    "    return tf.keras.losses.CategoricalCrossentropy(\n",
    "        from_logits=False,\n",
    "        reduction=tf.keras.losses.Reduction.NONE\n",
    "    )(y_true=y_true, y_pred=y_pred)\n",
    "\n",
    "def ps_term(y_true, e, c0, c1):\n",
    "    p_loss = []\n",
    "    for i in range(len(c0)):\n",
    "         p_loss.append((1. - (tf.cast(tf.equal(K.argmax(y_true[c0[i]]), K.argmax(y_true[c1[i]])), dtype='float32'))) \\\n",
    "              * calculate_term(e, c0[i], c1[i]))\n",
    "    return tf.convert_to_tensor(p_loss)\n",
    "    \n",
    "model.compile(optimizer=tf.keras.optimizers.Adam(learning_rate=lr), \n",
    "              loss=None)\n",
    "\n",
    "model.add_metric(my_acc(i2, o), name='acc', aggregation='mean')\n",
    "model.add_metric(cce(i2, o), name='cce', aggregation='mean')\n",
    "model.add_metric(ps_term(i2, e, c0, c1), name='ps', aggregation='mean')"
   ]
  },
  {
   "cell_type": "code",
   "execution_count": 14,
   "id": "037487a7",
   "metadata": {},
   "outputs": [],
   "source": [
    "# class CustomCallback(tf.keras.callbacks.Callback):\n",
    "#     def __init__(self, n_hidden_neurons, save_path='./'):\n",
    "#         self.n_hidden_neurons = n_hidden_neurons\n",
    "#         self.save_path = save_path\n",
    "        \n",
    "#     def on_epoch_begin(self, epoch, logs=None):\n",
    "#         W = self.model.layers[1].get_weights()\n",
    "#         fig = plt.figure(figsize=(20,20))\n",
    "#         dim = int(np.ceil(np.sqrt(64)))\n",
    "#         for j in range(64):\n",
    "#             x_j = W[0][:,j] / np.sqrt(np.sum(np.dot(W[0][:,j], W[0][:,j].T)))\n",
    "#             ax = fig.add_subplot(dim,dim,j+1)\n",
    "#             ax.imshow(x_j.reshape((28,28)))\n",
    "#             plt.axis('off')\n",
    "#         plt.savefig(os.path.join(self.save_path, '{}.png'.format(epoch)), bbox_inches='tight')\n",
    "#         plt.close('all')"
   ]
  },
  {
   "cell_type": "code",
   "execution_count": 15,
   "id": "3d725091",
   "metadata": {
    "scrolled": false
   },
   "outputs": [
    {
     "name": "stdout",
     "output_type": "stream",
     "text": [
      "Train on 4096 samples, validate on 2048 samples\n",
      "Epoch 1/200\n",
      "4096/4096 [==============================] - 38s 9ms/sample - loss: 3.2080 - acc: 0.8949 - cce: 2.7256 - ps: 0.4824 - val_loss: 2.3083 - val_acc: 0.9000 - val_cce: 2.3081 - val_ps: 1.3951e-04\n",
      "Epoch 2/200\n",
      "4096/4096 [==============================] - 30s 7ms/sample - loss: 2.3820 - acc: 0.9000 - cce: 2.3057 - ps: 0.0763 - val_loss: 2.6566 - val_acc: 0.9000 - val_cce: 2.2935 - val_ps: 0.3631\n",
      "Epoch 3/200\n",
      "4096/4096 [==============================] - 31s 7ms/sample - loss: 2.5329 - acc: 0.9000 - cce: 2.1926 - ps: 0.3403 - val_loss: 2.3191 - val_acc: 0.9000 - val_cce: 2.1777 - val_ps: 0.1415\n",
      "Epoch 4/200\n",
      "4096/4096 [==============================] - 29s 7ms/sample - loss: 2.4317 - acc: 0.8990 - cce: 2.1289 - ps: 0.3028 - val_loss: 2.3385 - val_acc: 0.9000 - val_cce: 2.1250 - val_ps: 0.2134\n",
      "Epoch 5/200\n",
      "4096/4096 [==============================] - 30s 7ms/sample - loss: 2.4205 - acc: 0.8996 - cce: 2.1201 - ps: 0.3004 - val_loss: 2.3422 - val_acc: 0.9000 - val_cce: 2.1145 - val_ps: 0.2277\n",
      "Epoch 6/200\n",
      "4096/4096 [==============================] - 35s 8ms/sample - loss: 2.4192 - acc: 0.8991 - cce: 2.1291 - ps: 0.2902 - val_loss: 2.5008 - val_acc: 0.8971 - val_cce: 2.1001 - val_ps: 0.4007\n",
      "Epoch 7/200\n",
      "4096/4096 [==============================] - 35s 9ms/sample - loss: 2.3935 - acc: 0.8992 - cce: 2.1330 - ps: 0.2605 - val_loss: 2.5204 - val_acc: 0.8977 - val_cce: 2.1584 - val_ps: 0.3620\n",
      "Epoch 8/200\n",
      "4096/4096 [==============================] - 31s 8ms/sample - loss: 2.4015 - acc: 0.8989 - cce: 2.1280 - ps: 0.2734 - val_loss: 2.3723 - val_acc: 0.8943 - val_cce: 2.1149 - val_ps: 0.2574\n",
      "Epoch 9/200\n",
      "4096/4096 [==============================] - 32s 8ms/sample - loss: 2.3490 - acc: 0.8995 - cce: 2.2066 - ps: 0.1424 - val_loss: 2.3708 - val_acc: 0.8999 - val_cce: 2.1274 - val_ps: 0.2434\n",
      "Epoch 10/200\n",
      "4096/4096 [==============================] - 33s 8ms/sample - loss: 2.3352 - acc: 0.8996 - cce: 2.2474 - ps: 0.0878 - val_loss: 2.3035 - val_acc: 0.9000 - val_cce: 2.3035 - val_ps: 0.0000e+00\n",
      "Epoch 11/200\n",
      "4096/4096 [==============================] - 31s 8ms/sample - loss: 2.3168 - acc: 0.8990 - cce: 2.2130 - ps: 0.1038 - val_loss: 2.3545 - val_acc: 0.9000 - val_cce: 2.3503 - val_ps: 0.0042\n",
      "Epoch 12/200\n",
      "3112/4096 [=====================>........] - ETA: 5s - loss: 2.3110 - acc: 0.8993 - cce: 2.2356 - ps: 0.0754"
     ]
    },
    {
     "ename": "KeyboardInterrupt",
     "evalue": "",
     "output_type": "error",
     "traceback": [
      "\u001b[0;31m---------------------------------------------------------------------------\u001b[0m",
      "\u001b[0;31mKeyboardInterrupt\u001b[0m                         Traceback (most recent call last)",
      "\u001b[0;32m/var/folders/v4/sv47xgds2v5gnrw03x00sysc0000gr/T/ipykernel_65300/3867177972.py\u001b[0m in \u001b[0;36m<module>\u001b[0;34m\u001b[0m\n\u001b[1;32m      4\u001b[0m                                      y_train[limit:limit+2048]], None),\n\u001b[1;32m      5\u001b[0m                     \u001b[0mbatch_size\u001b[0m\u001b[0;34m=\u001b[0m\u001b[0mbatch_size\u001b[0m\u001b[0;34m,\u001b[0m\u001b[0;34m\u001b[0m\u001b[0;34m\u001b[0m\u001b[0m\n\u001b[0;32m----> 6\u001b[0;31m                     epochs=epochs)\n\u001b[0m\u001b[1;32m      7\u001b[0m \u001b[0;31m#                     callbacks=[CustomCallback(n_hidden_neurons, '../video')])\u001b[0m\u001b[0;34m\u001b[0m\u001b[0;34m\u001b[0m\u001b[0;34m\u001b[0m\u001b[0m\n",
      "\u001b[0;32m~/anaconda2/envs/polysemantic_neurons/lib/python3.7/site-packages/tensorflow_core/python/keras/engine/training.py\u001b[0m in \u001b[0;36mfit\u001b[0;34m(self, x, y, batch_size, epochs, verbose, callbacks, validation_split, validation_data, shuffle, class_weight, sample_weight, initial_epoch, steps_per_epoch, validation_steps, validation_freq, max_queue_size, workers, use_multiprocessing, **kwargs)\u001b[0m\n\u001b[1;32m    817\u001b[0m         \u001b[0mmax_queue_size\u001b[0m\u001b[0;34m=\u001b[0m\u001b[0mmax_queue_size\u001b[0m\u001b[0;34m,\u001b[0m\u001b[0;34m\u001b[0m\u001b[0;34m\u001b[0m\u001b[0m\n\u001b[1;32m    818\u001b[0m         \u001b[0mworkers\u001b[0m\u001b[0;34m=\u001b[0m\u001b[0mworkers\u001b[0m\u001b[0;34m,\u001b[0m\u001b[0;34m\u001b[0m\u001b[0;34m\u001b[0m\u001b[0m\n\u001b[0;32m--> 819\u001b[0;31m         use_multiprocessing=use_multiprocessing)\n\u001b[0m\u001b[1;32m    820\u001b[0m \u001b[0;34m\u001b[0m\u001b[0m\n\u001b[1;32m    821\u001b[0m   def evaluate(self,\n",
      "\u001b[0;32m~/anaconda2/envs/polysemantic_neurons/lib/python3.7/site-packages/tensorflow_core/python/keras/engine/training_v2.py\u001b[0m in \u001b[0;36mfit\u001b[0;34m(self, model, x, y, batch_size, epochs, verbose, callbacks, validation_split, validation_data, shuffle, class_weight, sample_weight, initial_epoch, steps_per_epoch, validation_steps, validation_freq, max_queue_size, workers, use_multiprocessing, **kwargs)\u001b[0m\n\u001b[1;32m    340\u001b[0m                 \u001b[0mmode\u001b[0m\u001b[0;34m=\u001b[0m\u001b[0mModeKeys\u001b[0m\u001b[0;34m.\u001b[0m\u001b[0mTRAIN\u001b[0m\u001b[0;34m,\u001b[0m\u001b[0;34m\u001b[0m\u001b[0;34m\u001b[0m\u001b[0m\n\u001b[1;32m    341\u001b[0m                 \u001b[0mtraining_context\u001b[0m\u001b[0;34m=\u001b[0m\u001b[0mtraining_context\u001b[0m\u001b[0;34m,\u001b[0m\u001b[0;34m\u001b[0m\u001b[0;34m\u001b[0m\u001b[0m\n\u001b[0;32m--> 342\u001b[0;31m                 total_epochs=epochs)\n\u001b[0m\u001b[1;32m    343\u001b[0m             \u001b[0mcbks\u001b[0m\u001b[0;34m.\u001b[0m\u001b[0mmake_logs\u001b[0m\u001b[0;34m(\u001b[0m\u001b[0mmodel\u001b[0m\u001b[0;34m,\u001b[0m \u001b[0mepoch_logs\u001b[0m\u001b[0;34m,\u001b[0m \u001b[0mtraining_result\u001b[0m\u001b[0;34m,\u001b[0m \u001b[0mModeKeys\u001b[0m\u001b[0;34m.\u001b[0m\u001b[0mTRAIN\u001b[0m\u001b[0;34m)\u001b[0m\u001b[0;34m\u001b[0m\u001b[0;34m\u001b[0m\u001b[0m\n\u001b[1;32m    344\u001b[0m \u001b[0;34m\u001b[0m\u001b[0m\n",
      "\u001b[0;32m~/anaconda2/envs/polysemantic_neurons/lib/python3.7/site-packages/tensorflow_core/python/keras/engine/training_v2.py\u001b[0m in \u001b[0;36mrun_one_epoch\u001b[0;34m(model, iterator, execution_function, dataset_size, batch_size, strategy, steps_per_epoch, num_samples, mode, training_context, total_epochs)\u001b[0m\n\u001b[1;32m    178\u001b[0m             \u001b[0mbatch_start\u001b[0m\u001b[0;34m=\u001b[0m\u001b[0mstep\u001b[0m \u001b[0;34m*\u001b[0m \u001b[0mbatch_size\u001b[0m\u001b[0;34m,\u001b[0m\u001b[0;34m\u001b[0m\u001b[0;34m\u001b[0m\u001b[0m\n\u001b[1;32m    179\u001b[0m             batch_end=step * batch_size + current_batch_size)\n\u001b[0;32m--> 180\u001b[0;31m       \u001b[0mcbks\u001b[0m\u001b[0;34m.\u001b[0m\u001b[0mmake_logs\u001b[0m\u001b[0;34m(\u001b[0m\u001b[0mmodel\u001b[0m\u001b[0;34m,\u001b[0m \u001b[0mbatch_logs\u001b[0m\u001b[0;34m,\u001b[0m \u001b[0mbatch_outs\u001b[0m\u001b[0;34m,\u001b[0m \u001b[0mmode\u001b[0m\u001b[0;34m)\u001b[0m\u001b[0;34m\u001b[0m\u001b[0;34m\u001b[0m\u001b[0m\n\u001b[0m\u001b[1;32m    181\u001b[0m       \u001b[0mstep\u001b[0m \u001b[0;34m+=\u001b[0m \u001b[0;36m1\u001b[0m\u001b[0;34m\u001b[0m\u001b[0;34m\u001b[0m\u001b[0m\n\u001b[1;32m    182\u001b[0m \u001b[0;34m\u001b[0m\u001b[0m\n",
      "\u001b[0;32m~/anaconda2/envs/polysemantic_neurons/lib/python3.7/site-packages/tensorflow_core/python/keras/callbacks.py\u001b[0m in \u001b[0;36mmake_logs\u001b[0;34m(model, logs, outputs, mode, prefix)\u001b[0m\n\u001b[1;32m    178\u001b[0m \u001b[0;32mdef\u001b[0m \u001b[0mmake_logs\u001b[0m\u001b[0;34m(\u001b[0m\u001b[0mmodel\u001b[0m\u001b[0;34m,\u001b[0m \u001b[0mlogs\u001b[0m\u001b[0;34m,\u001b[0m \u001b[0moutputs\u001b[0m\u001b[0;34m,\u001b[0m \u001b[0mmode\u001b[0m\u001b[0;34m,\u001b[0m \u001b[0mprefix\u001b[0m\u001b[0;34m=\u001b[0m\u001b[0;34m''\u001b[0m\u001b[0;34m)\u001b[0m\u001b[0;34m:\u001b[0m\u001b[0;34m\u001b[0m\u001b[0;34m\u001b[0m\u001b[0m\n\u001b[1;32m    179\u001b[0m   \u001b[0;34m\"\"\"Computes logs for sending to `on_batch_end` methods.\"\"\"\u001b[0m\u001b[0;34m\u001b[0m\u001b[0;34m\u001b[0m\u001b[0m\n\u001b[0;32m--> 180\u001b[0;31m   \u001b[0mmetric_names\u001b[0m \u001b[0;34m=\u001b[0m \u001b[0mmodel\u001b[0m\u001b[0;34m.\u001b[0m\u001b[0mmetrics_names\u001b[0m\u001b[0;34m\u001b[0m\u001b[0;34m\u001b[0m\u001b[0m\n\u001b[0m\u001b[1;32m    181\u001b[0m   \u001b[0;32mif\u001b[0m \u001b[0mmode\u001b[0m \u001b[0;32min\u001b[0m \u001b[0;34m{\u001b[0m\u001b[0mModeKeys\u001b[0m\u001b[0;34m.\u001b[0m\u001b[0mTRAIN\u001b[0m\u001b[0;34m,\u001b[0m \u001b[0mModeKeys\u001b[0m\u001b[0;34m.\u001b[0m\u001b[0mTEST\u001b[0m\u001b[0;34m}\u001b[0m \u001b[0;32mand\u001b[0m \u001b[0mmetric_names\u001b[0m\u001b[0;34m:\u001b[0m\u001b[0;34m\u001b[0m\u001b[0;34m\u001b[0m\u001b[0m\n\u001b[1;32m    182\u001b[0m     \u001b[0;32mfor\u001b[0m \u001b[0mlabel\u001b[0m\u001b[0;34m,\u001b[0m \u001b[0moutput\u001b[0m \u001b[0;32min\u001b[0m \u001b[0mzip\u001b[0m\u001b[0;34m(\u001b[0m\u001b[0mmetric_names\u001b[0m\u001b[0;34m,\u001b[0m \u001b[0moutputs\u001b[0m\u001b[0;34m)\u001b[0m\u001b[0;34m:\u001b[0m\u001b[0;34m\u001b[0m\u001b[0;34m\u001b[0m\u001b[0m\n",
      "\u001b[0;32m~/anaconda2/envs/polysemantic_neurons/lib/python3.7/site-packages/tensorflow_core/python/keras/engine/training.py\u001b[0m in \u001b[0;36mmetrics_names\u001b[0;34m(self)\u001b[0m\n\u001b[1;32m    503\u001b[0m \u001b[0;34m\u001b[0m\u001b[0m\n\u001b[1;32m    504\u001b[0m     \u001b[0;31m# Add all metric names.\u001b[0m\u001b[0;34m\u001b[0m\u001b[0;34m\u001b[0m\u001b[0;34m\u001b[0m\u001b[0m\n\u001b[0;32m--> 505\u001b[0;31m     \u001b[0mmetrics_names\u001b[0m \u001b[0;34m+=\u001b[0m \u001b[0;34m[\u001b[0m\u001b[0mm\u001b[0m\u001b[0;34m.\u001b[0m\u001b[0mname\u001b[0m \u001b[0;32mfor\u001b[0m \u001b[0mm\u001b[0m \u001b[0;32min\u001b[0m \u001b[0mself\u001b[0m\u001b[0;34m.\u001b[0m\u001b[0mmetrics\u001b[0m\u001b[0;34m]\u001b[0m\u001b[0;34m\u001b[0m\u001b[0;34m\u001b[0m\u001b[0m\n\u001b[0m\u001b[1;32m    506\u001b[0m     \u001b[0;32mreturn\u001b[0m \u001b[0mmetrics_names\u001b[0m\u001b[0;34m\u001b[0m\u001b[0;34m\u001b[0m\u001b[0m\n\u001b[1;32m    507\u001b[0m \u001b[0;34m\u001b[0m\u001b[0m\n",
      "\u001b[0;32m~/anaconda2/envs/polysemantic_neurons/lib/python3.7/site-packages/tensorflow_core/python/keras/engine/training.py\u001b[0m in \u001b[0;36mmetrics\u001b[0;34m(self)\u001b[0m\n\u001b[1;32m    483\u001b[0m       \u001b[0mmetrics\u001b[0m \u001b[0;34m+=\u001b[0m \u001b[0mself\u001b[0m\u001b[0;34m.\u001b[0m\u001b[0m_compile_metric_functions\u001b[0m\u001b[0;34m\u001b[0m\u001b[0;34m\u001b[0m\u001b[0m\n\u001b[1;32m    484\u001b[0m     \u001b[0mmetrics\u001b[0m\u001b[0;34m.\u001b[0m\u001b[0mextend\u001b[0m\u001b[0;34m(\u001b[0m\u001b[0mself\u001b[0m\u001b[0;34m.\u001b[0m\u001b[0m_metrics\u001b[0m\u001b[0;34m)\u001b[0m\u001b[0;34m\u001b[0m\u001b[0;34m\u001b[0m\u001b[0m\n\u001b[0;32m--> 485\u001b[0;31m     \u001b[0mmetrics\u001b[0m\u001b[0;34m.\u001b[0m\u001b[0mextend\u001b[0m\u001b[0;34m(\u001b[0m\u001b[0m_get_metrics_from_layers\u001b[0m\u001b[0;34m(\u001b[0m\u001b[0mself\u001b[0m\u001b[0;34m.\u001b[0m\u001b[0m_layers\u001b[0m\u001b[0;34m)\u001b[0m\u001b[0;34m)\u001b[0m\u001b[0;34m\u001b[0m\u001b[0;34m\u001b[0m\u001b[0m\n\u001b[0m\u001b[1;32m    486\u001b[0m     \u001b[0;32mreturn\u001b[0m \u001b[0mmetrics\u001b[0m\u001b[0;34m\u001b[0m\u001b[0;34m\u001b[0m\u001b[0m\n\u001b[1;32m    487\u001b[0m \u001b[0;34m\u001b[0m\u001b[0m\n",
      "\u001b[0;32m~/anaconda2/envs/polysemantic_neurons/lib/python3.7/site-packages/tensorflow_core/python/keras/engine/training.py\u001b[0m in \u001b[0;36m_get_metrics_from_layers\u001b[0;34m(layers)\u001b[0m\n\u001b[1;32m   3231\u001b[0m       \u001b[0mmetrics\u001b[0m\u001b[0;34m.\u001b[0m\u001b[0mextend\u001b[0m\u001b[0;34m(\u001b[0m\u001b[0m_get_metrics_from_layers\u001b[0m\u001b[0;34m(\u001b[0m\u001b[0mlayer\u001b[0m\u001b[0;34m.\u001b[0m\u001b[0mlayers\u001b[0m\u001b[0;34m)\u001b[0m\u001b[0;34m)\u001b[0m\u001b[0;34m\u001b[0m\u001b[0;34m\u001b[0m\u001b[0m\n\u001b[1;32m   3232\u001b[0m     \u001b[0;32melse\u001b[0m\u001b[0;34m:\u001b[0m\u001b[0;34m\u001b[0m\u001b[0;34m\u001b[0m\u001b[0m\n\u001b[0;32m-> 3233\u001b[0;31m       \u001b[0mmetrics\u001b[0m\u001b[0;34m.\u001b[0m\u001b[0mextend\u001b[0m\u001b[0;34m(\u001b[0m\u001b[0mlayer\u001b[0m\u001b[0;34m.\u001b[0m\u001b[0mmetrics\u001b[0m\u001b[0;34m)\u001b[0m\u001b[0;34m\u001b[0m\u001b[0;34m\u001b[0m\u001b[0m\n\u001b[0m\u001b[1;32m   3234\u001b[0m   \u001b[0;32mreturn\u001b[0m \u001b[0mmetrics\u001b[0m\u001b[0;34m\u001b[0m\u001b[0;34m\u001b[0m\u001b[0m\n",
      "\u001b[0;32m~/anaconda2/envs/polysemantic_neurons/lib/python3.7/site-packages/tensorflow_core/python/keras/engine/base_layer.py\u001b[0m in \u001b[0;36mmetrics\u001b[0;34m(self)\u001b[0m\n\u001b[1;32m   1095\u001b[0m   \u001b[0;34m@\u001b[0m\u001b[0mproperty\u001b[0m\u001b[0;34m\u001b[0m\u001b[0;34m\u001b[0m\u001b[0m\n\u001b[1;32m   1096\u001b[0m   \u001b[0;32mdef\u001b[0m \u001b[0mmetrics\u001b[0m\u001b[0;34m(\u001b[0m\u001b[0mself\u001b[0m\u001b[0;34m)\u001b[0m\u001b[0;34m:\u001b[0m\u001b[0;34m\u001b[0m\u001b[0;34m\u001b[0m\u001b[0m\n\u001b[0;32m-> 1097\u001b[0;31m     \u001b[0;32mreturn\u001b[0m \u001b[0mself\u001b[0m\u001b[0;34m.\u001b[0m\u001b[0m_metrics\u001b[0m \u001b[0;34m+\u001b[0m \u001b[0mself\u001b[0m\u001b[0;34m.\u001b[0m\u001b[0m_gather_children_attribute\u001b[0m\u001b[0;34m(\u001b[0m\u001b[0;34m'metrics'\u001b[0m\u001b[0;34m)\u001b[0m\u001b[0;34m\u001b[0m\u001b[0;34m\u001b[0m\u001b[0m\n\u001b[0m\u001b[1;32m   1098\u001b[0m \u001b[0;34m\u001b[0m\u001b[0m\n\u001b[1;32m   1099\u001b[0m   \u001b[0;34m@\u001b[0m\u001b[0mdoc_controls\u001b[0m\u001b[0;34m.\u001b[0m\u001b[0mfor_subclass_implementers\u001b[0m\u001b[0;34m\u001b[0m\u001b[0;34m\u001b[0m\u001b[0m\n",
      "\u001b[0;32m~/anaconda2/envs/polysemantic_neurons/lib/python3.7/site-packages/tensorflow_core/python/keras/engine/base_layer.py\u001b[0m in \u001b[0;36m_gather_children_attribute\u001b[0;34m(self, attribute)\u001b[0m\n\u001b[1;32m   2319\u001b[0m       return list(\n\u001b[1;32m   2320\u001b[0m           itertools.chain.from_iterable(\n\u001b[0;32m-> 2321\u001b[0;31m               getattr(layer, attribute) for layer in nested_layers))\n\u001b[0m\u001b[1;32m   2322\u001b[0m     \u001b[0;32mreturn\u001b[0m \u001b[0;34m[\u001b[0m\u001b[0;34m]\u001b[0m\u001b[0;34m\u001b[0m\u001b[0;34m\u001b[0m\u001b[0m\n\u001b[1;32m   2323\u001b[0m \u001b[0;34m\u001b[0m\u001b[0m\n",
      "\u001b[0;32m~/anaconda2/envs/polysemantic_neurons/lib/python3.7/site-packages/tensorflow_core/python/keras/engine/base_layer.py\u001b[0m in \u001b[0;36m<genexpr>\u001b[0;34m(.0)\u001b[0m\n\u001b[1;32m   2319\u001b[0m       return list(\n\u001b[1;32m   2320\u001b[0m           itertools.chain.from_iterable(\n\u001b[0;32m-> 2321\u001b[0;31m               getattr(layer, attribute) for layer in nested_layers))\n\u001b[0m\u001b[1;32m   2322\u001b[0m     \u001b[0;32mreturn\u001b[0m \u001b[0;34m[\u001b[0m\u001b[0;34m]\u001b[0m\u001b[0;34m\u001b[0m\u001b[0;34m\u001b[0m\u001b[0m\n\u001b[1;32m   2323\u001b[0m \u001b[0;34m\u001b[0m\u001b[0m\n",
      "\u001b[0;32m~/anaconda2/envs/polysemantic_neurons/lib/python3.7/site-packages/tensorflow_core/python/training/tracking/layer_utils.py\u001b[0m in \u001b[0;36mfilter_empty_layer_containers\u001b[0;34m(layer_list)\u001b[0m\n\u001b[1;32m    245\u001b[0m       \u001b[0;32myield\u001b[0m \u001b[0mobj\u001b[0m\u001b[0;34m\u001b[0m\u001b[0;34m\u001b[0m\u001b[0m\n\u001b[1;32m    246\u001b[0m     \u001b[0;32melse\u001b[0m\u001b[0;34m:\u001b[0m\u001b[0;34m\u001b[0m\u001b[0;34m\u001b[0m\u001b[0m\n\u001b[0;32m--> 247\u001b[0;31m       \u001b[0msub_layers\u001b[0m \u001b[0;34m=\u001b[0m \u001b[0mgetattr\u001b[0m\u001b[0;34m(\u001b[0m\u001b[0mobj\u001b[0m\u001b[0;34m,\u001b[0m \u001b[0;34m\"layers\"\u001b[0m\u001b[0;34m,\u001b[0m \u001b[0;32mNone\u001b[0m\u001b[0;34m)\u001b[0m \u001b[0;32mor\u001b[0m \u001b[0;34m[\u001b[0m\u001b[0;34m]\u001b[0m\u001b[0;34m\u001b[0m\u001b[0;34m\u001b[0m\u001b[0m\n\u001b[0m\u001b[1;32m    248\u001b[0m \u001b[0;34m\u001b[0m\u001b[0m\n\u001b[1;32m    249\u001b[0m       \u001b[0;31m# Trackable data structures will not show up in \".layers\" lists, but\u001b[0m\u001b[0;34m\u001b[0m\u001b[0;34m\u001b[0m\u001b[0;34m\u001b[0m\u001b[0m\n",
      "\u001b[0;32m~/anaconda2/envs/polysemantic_neurons/lib/python3.7/site-packages/tensorflow_core/python/training/tracking/data_structures.py\u001b[0m in \u001b[0;36m__getattribute__\u001b[0;34m(self, name)\u001b[0m\n\u001b[1;32m    742\u001b[0m       \u001b[0;31m# in particular seems to look up properties on the wrapped object instead\u001b[0m\u001b[0;34m\u001b[0m\u001b[0;34m\u001b[0m\u001b[0;34m\u001b[0m\u001b[0m\n\u001b[1;32m    743\u001b[0m       \u001b[0;31m# of the wrapper without this logic.\u001b[0m\u001b[0;34m\u001b[0m\u001b[0;34m\u001b[0m\u001b[0;34m\u001b[0m\u001b[0m\n\u001b[0;32m--> 744\u001b[0;31m       \u001b[0;32mreturn\u001b[0m \u001b[0mobject\u001b[0m\u001b[0;34m.\u001b[0m\u001b[0m__getattribute__\u001b[0m\u001b[0;34m(\u001b[0m\u001b[0mself\u001b[0m\u001b[0;34m,\u001b[0m \u001b[0mname\u001b[0m\u001b[0;34m)\u001b[0m\u001b[0;34m\u001b[0m\u001b[0;34m\u001b[0m\u001b[0m\n\u001b[0m\u001b[1;32m    745\u001b[0m     \u001b[0;32melse\u001b[0m\u001b[0;34m:\u001b[0m\u001b[0;34m\u001b[0m\u001b[0;34m\u001b[0m\u001b[0m\n\u001b[1;32m    746\u001b[0m       \u001b[0;32mreturn\u001b[0m \u001b[0msuper\u001b[0m\u001b[0;34m(\u001b[0m\u001b[0m_DictWrapper\u001b[0m\u001b[0;34m,\u001b[0m \u001b[0mself\u001b[0m\u001b[0;34m)\u001b[0m\u001b[0;34m.\u001b[0m\u001b[0m__getattribute__\u001b[0m\u001b[0;34m(\u001b[0m\u001b[0mname\u001b[0m\u001b[0;34m)\u001b[0m\u001b[0;34m\u001b[0m\u001b[0;34m\u001b[0m\u001b[0m\n",
      "\u001b[0;32m~/anaconda2/envs/polysemantic_neurons/lib/python3.7/site-packages/tensorflow_core/python/training/tracking/data_structures.py\u001b[0m in \u001b[0;36mlayers\u001b[0;34m(self)\u001b[0m\n\u001b[1;32m    208\u001b[0m   \u001b[0;34m@\u001b[0m\u001b[0mproperty\u001b[0m\u001b[0;34m\u001b[0m\u001b[0;34m\u001b[0m\u001b[0m\n\u001b[1;32m    209\u001b[0m   \u001b[0;32mdef\u001b[0m \u001b[0mlayers\u001b[0m\u001b[0;34m(\u001b[0m\u001b[0mself\u001b[0m\u001b[0;34m)\u001b[0m\u001b[0;34m:\u001b[0m\u001b[0;34m\u001b[0m\u001b[0;34m\u001b[0m\u001b[0m\n\u001b[0;32m--> 210\u001b[0;31m     \u001b[0;32mreturn\u001b[0m \u001b[0mlist\u001b[0m\u001b[0;34m(\u001b[0m\u001b[0mlayer_utils\u001b[0m\u001b[0;34m.\u001b[0m\u001b[0mfilter_empty_layer_containers\u001b[0m\u001b[0;34m(\u001b[0m\u001b[0mself\u001b[0m\u001b[0;34m.\u001b[0m\u001b[0m_layers\u001b[0m\u001b[0;34m)\u001b[0m\u001b[0;34m)\u001b[0m\u001b[0;34m\u001b[0m\u001b[0;34m\u001b[0m\u001b[0m\n\u001b[0m\u001b[1;32m    211\u001b[0m \u001b[0;34m\u001b[0m\u001b[0m\n\u001b[1;32m    212\u001b[0m   \u001b[0;34m@\u001b[0m\u001b[0mproperty\u001b[0m\u001b[0;34m\u001b[0m\u001b[0;34m\u001b[0m\u001b[0m\n",
      "\u001b[0;32m~/anaconda2/envs/polysemantic_neurons/lib/python3.7/site-packages/tensorflow_core/python/training/tracking/layer_utils.py\u001b[0m in \u001b[0;36mfilter_empty_layer_containers\u001b[0;34m(layer_list)\u001b[0m\n\u001b[1;32m    235\u001b[0m   \u001b[0;34m\"\"\"Filter out empty Layer-like containers and uniquify.\"\"\"\u001b[0m\u001b[0;34m\u001b[0m\u001b[0;34m\u001b[0m\u001b[0m\n\u001b[1;32m    236\u001b[0m   \u001b[0;31m# TODO(b/130381733): Make this an attribute in base_layer.Layer.\u001b[0m\u001b[0;34m\u001b[0m\u001b[0;34m\u001b[0m\u001b[0;34m\u001b[0m\u001b[0m\n\u001b[0;32m--> 237\u001b[0;31m   \u001b[0mexisting\u001b[0m \u001b[0;34m=\u001b[0m \u001b[0mobject_identity\u001b[0m\u001b[0;34m.\u001b[0m\u001b[0mObjectIdentitySet\u001b[0m\u001b[0;34m(\u001b[0m\u001b[0;34m)\u001b[0m\u001b[0;34m\u001b[0m\u001b[0;34m\u001b[0m\u001b[0m\n\u001b[0m\u001b[1;32m    238\u001b[0m   \u001b[0mto_visit\u001b[0m \u001b[0;34m=\u001b[0m \u001b[0mlayer_list\u001b[0m\u001b[0;34m[\u001b[0m\u001b[0;34m:\u001b[0m\u001b[0;34m:\u001b[0m\u001b[0;34m-\u001b[0m\u001b[0;36m1\u001b[0m\u001b[0;34m]\u001b[0m\u001b[0;34m\u001b[0m\u001b[0;34m\u001b[0m\u001b[0m\n\u001b[1;32m    239\u001b[0m   \u001b[0;32mwhile\u001b[0m \u001b[0mto_visit\u001b[0m\u001b[0;34m:\u001b[0m\u001b[0;34m\u001b[0m\u001b[0;34m\u001b[0m\u001b[0m\n",
      "\u001b[0;32m~/anaconda2/envs/polysemantic_neurons/lib/python3.7/site-packages/tensorflow_core/python/util/object_identity.py\u001b[0m in \u001b[0;36m__init__\u001b[0;34m(self, *args)\u001b[0m\n\u001b[1;32m    172\u001b[0m   \u001b[0;34m\"\"\"Like the built-in set, but compares objects with \"is\".\"\"\"\u001b[0m\u001b[0;34m\u001b[0m\u001b[0;34m\u001b[0m\u001b[0m\n\u001b[1;32m    173\u001b[0m \u001b[0;34m\u001b[0m\u001b[0m\n\u001b[0;32m--> 174\u001b[0;31m   \u001b[0;32mdef\u001b[0m \u001b[0m__init__\u001b[0m\u001b[0;34m(\u001b[0m\u001b[0mself\u001b[0m\u001b[0;34m,\u001b[0m \u001b[0;34m*\u001b[0m\u001b[0margs\u001b[0m\u001b[0;34m)\u001b[0m\u001b[0;34m:\u001b[0m\u001b[0;34m\u001b[0m\u001b[0;34m\u001b[0m\u001b[0m\n\u001b[0m\u001b[1;32m    175\u001b[0m     \u001b[0mself\u001b[0m\u001b[0;34m.\u001b[0m\u001b[0m_storage\u001b[0m \u001b[0;34m=\u001b[0m \u001b[0mset\u001b[0m\u001b[0;34m(\u001b[0m\u001b[0;34m[\u001b[0m\u001b[0mself\u001b[0m\u001b[0;34m.\u001b[0m\u001b[0m_wrap_key\u001b[0m\u001b[0;34m(\u001b[0m\u001b[0mobj\u001b[0m\u001b[0;34m)\u001b[0m \u001b[0;32mfor\u001b[0m \u001b[0mobj\u001b[0m \u001b[0;32min\u001b[0m \u001b[0mlist\u001b[0m\u001b[0;34m(\u001b[0m\u001b[0;34m*\u001b[0m\u001b[0margs\u001b[0m\u001b[0;34m)\u001b[0m\u001b[0;34m]\u001b[0m\u001b[0;34m)\u001b[0m\u001b[0;34m\u001b[0m\u001b[0;34m\u001b[0m\u001b[0m\n\u001b[1;32m    176\u001b[0m \u001b[0;34m\u001b[0m\u001b[0m\n",
      "\u001b[0;31mKeyboardInterrupt\u001b[0m: "
     ]
    }
   ],
   "source": [
    "history = model.fit([np.array(x_train_reshape)[:limit], y_train[:limit]],\n",
    "                    y=None,\n",
    "                    validation_data=([np.array(x_train_reshape)[limit:limit+2048], \n",
    "                                     y_train[limit:limit+2048]], None),\n",
    "                    batch_size=batch_size,\n",
    "                    epochs=epochs)\n",
    "#                     callbacks=[CustomCallback(n_hidden_neurons, '../video')])"
   ]
  },
  {
   "cell_type": "code",
   "execution_count": null,
   "id": "4b2305ad",
   "metadata": {},
   "outputs": [],
   "source": [
    "fig = plt.figure(figsize=(20,20))\n",
    "for j,m in enumerate(['loss', 'acc', 'cce', 'ps']):\n",
    "    ax = fig.add_subplot(2,2,j+1)\n",
    "    ax.plot(range(1,epochs+1), np.squeeze(history.history[m]), 'k-', lw=4)\n",
    "    t, = ax.plot(range(1,epochs+1), np.squeeze(history.history[m]), '-', color='#7E3F8F', lw=3)\n",
    "    ax.plot(range(1,epochs+1), np.squeeze(history.history['val_{}'.format(m)]), 'k-', lw=4)\n",
    "    v, = ax.plot(range(1,epochs+1), np.squeeze(history.history['val_{}'.format(m)]), '-', color='#3BCEAC', lw=3)\n",
    "    ax.set_ylabel(m)\n",
    "    ax.set_xlabel('epoch')\n",
    "    if j == 0:\n",
    "        ax.legend([t, v], ['train', 'val'])\n"
   ]
  },
  {
   "cell_type": "markdown",
   "id": "93db4c04",
   "metadata": {},
   "source": [
    "### calculate test set accuracy"
   ]
  },
  {
   "cell_type": "code",
   "execution_count": null,
   "id": "73f8a338",
   "metadata": {},
   "outputs": [],
   "source": [
    "inference = tf.keras.Model(inputs=i, outputs=o)\n",
    "y_pred_test = inference.predict(np.array(x_test_reshape))\n",
    "print(np.mean(my_acc(y_test, y_pred_test)))"
   ]
  },
  {
   "cell_type": "markdown",
   "id": "cca06bfd",
   "metadata": {},
   "source": [
    "### calculate activations across the training set"
   ]
  },
  {
   "cell_type": "code",
   "execution_count": null,
   "id": "ffe33452",
   "metadata": {},
   "outputs": [],
   "source": [
    "embed = tf.keras.Model(inputs=i, outputs=e)"
   ]
  },
  {
   "cell_type": "code",
   "execution_count": null,
   "id": "9e351734",
   "metadata": {},
   "outputs": [],
   "source": [
    "embed.layers[1].set_weights(model.layers[1].get_weights())\n",
    "activations_by_class = {}\n",
    "a = embed.predict(np.array(x_train_reshape))\n",
    "for j in tqdm(range(len(x_train_reshape[:limit]))):\n",
    "    try:\n",
    "        activations_by_class[np.argmax(y_train, axis=1)[j]] += np.squeeze(a[j])\n",
    "    except KeyError:\n",
    "        activations_by_class[np.argmax(y_train, axis=1)[j]] = np.squeeze(a[j])"
   ]
  },
  {
   "cell_type": "code",
   "execution_count": null,
   "id": "27ef5d7c",
   "metadata": {},
   "outputs": [],
   "source": [
    "fig = plt.figure(figsize=(20,20))\n",
    "classes = list(activations_by_class.keys())\n",
    "classes.sort()\n",
    "for i,k in enumerate(classes):\n",
    "    y_pos = np.arange(len(activations_by_class[k]))\n",
    "    ax = fig.add_subplot(2, 5, i+1)\n",
    "    ax.set_title(k)\n",
    "    ax.barh(y_pos, np.log(np.squeeze(activations_by_class[k])), align='center')\n",
    "    ax.plot([0,0],[-1,len(np.squeeze(activations_by_class[k]))], 'k-')\n",
    "    ax.set_ylim(-1,len(np.squeeze(activations_by_class[k])))\n",
    "    fig.text(0.5, 0.04, 'log summed activation', ha='center')\n",
    "    fig.text(0.04, 0.5, 'neuron index', va='center', rotation='vertical')"
   ]
  },
  {
   "cell_type": "markdown",
   "id": "1fba80b1",
   "metadata": {},
   "source": [
    "### calculate activations across the test set"
   ]
  },
  {
   "cell_type": "code",
   "execution_count": null,
   "id": "9c0712b9",
   "metadata": {},
   "outputs": [],
   "source": [
    "activations_by_class_test = {}\n",
    "a = embed.predict(np.array(x_test_reshape))\n",
    "for j in tqdm(range(len(x_test_reshape))):\n",
    "    try:\n",
    "        activations_by_class_test[np.argmax(y_test, axis=1)[j]] += np.squeeze(a[j])\n",
    "    except KeyError:\n",
    "        activations_by_class_test[np.argmax(y_test, axis=1)[j]] = np.squeeze(a[j])"
   ]
  },
  {
   "cell_type": "code",
   "execution_count": null,
   "id": "047dd616",
   "metadata": {},
   "outputs": [],
   "source": [
    "fig = plt.figure(figsize=(20,20))\n",
    "classes = list(activations_by_class_test.keys())\n",
    "classes.sort()\n",
    "for i,k in enumerate(classes):\n",
    "    y_pos = np.arange(len(activations_by_class_test[k]))\n",
    "    ax = fig.add_subplot(2, 5, i+1)\n",
    "    ax.set_title(k)\n",
    "    ax.barh(y_pos, np.log(np.squeeze(activations_by_class_test[k])), align='center')\n",
    "    ax.plot([0,0],[-1,len(np.squeeze(activations_by_class_test[k]))], 'k-')\n",
    "    ax.set_ylim(-1,len(np.squeeze(activations_by_class_test[k])))\n",
    "    fig.text(0.5, 0.04, 'log summed activation', ha='center')\n",
    "    fig.text(0.04, 0.5, 'neuron index', va='center', rotation='vertical')"
   ]
  },
  {
   "cell_type": "markdown",
   "id": "b5998de4",
   "metadata": {},
   "source": [
    "### measure degree of polysemantism across training set activations"
   ]
  },
  {
   "cell_type": "code",
   "execution_count": null,
   "id": "d601ca13",
   "metadata": {},
   "outputs": [],
   "source": [
    "sum = 0\n",
    "for c in list(itertools.combinations(range(10), 2)):\n",
    "    a = (np.squeeze(activations_by_class[c[0]]) / (np.max(np.abs(np.squeeze(activations_by_class[c[0]])))) + 1e-9)\n",
    "    b = (np.squeeze(activations_by_class[c[1]]) / (np.max(np.abs(np.squeeze(activations_by_class[c[1]])))) + 1e-9)\n",
    "    sum += np.dot(np.transpose(a), b)\n",
    "print(sum/len(list(itertools.combinations(range(10), 2))))"
   ]
  },
  {
   "cell_type": "markdown",
   "id": "8e79961c",
   "metadata": {},
   "source": [
    "### measure degree of polysemantism across test set activations"
   ]
  },
  {
   "cell_type": "code",
   "execution_count": null,
   "id": "4ac85d3d",
   "metadata": {},
   "outputs": [],
   "source": [
    "sum = 0\n",
    "for c in list(itertools.combinations(range(10), 2)):\n",
    "    a = (np.squeeze(activations_by_class_test[c[0]]) / (np.max(np.abs(np.squeeze(activations_by_class_test[c[0]])))) + 1e-9)\n",
    "    b = (np.squeeze(activations_by_class_test[c[1]]) / (np.max(np.abs(np.squeeze(activations_by_class_test[c[1]])))) + 1e-9)\n",
    "    sum += np.dot(np.transpose(a), b)\n",
    "print(sum/len(list(itertools.combinations(range(10), 2))))"
   ]
  },
  {
   "cell_type": "markdown",
   "id": "e3c596c7",
   "metadata": {},
   "source": [
    "### visualise hidden neurons"
   ]
  },
  {
   "cell_type": "code",
   "execution_count": null,
   "id": "4a5b5998",
   "metadata": {},
   "outputs": [],
   "source": [
    "W = embed.layers[1].get_weights()\n",
    "fig = plt.figure(figsize=(20,20))\n",
    "dim = int(np.ceil(np.sqrt(n_hidden_neurons)))\n",
    "for j in range(n_hidden_neurons):\n",
    "    x_j = W[0][:,j] / np.sqrt(np.sum(np.dot(W[0][:,j], W[0][:,j].T)))\n",
    "    ax = fig.add_subplot(dim,dim,j+1)\n",
    "    ax.imshow(x_j.reshape((28,28)))\n",
    "    plt.axis('off')\n",
    "plt.show()"
   ]
  },
  {
   "cell_type": "code",
   "execution_count": null,
   "id": "8bea94ec",
   "metadata": {},
   "outputs": [],
   "source": []
  }
 ],
 "metadata": {
  "kernelspec": {
   "display_name": "Python 3 (ipykernel)",
   "language": "python",
   "name": "python3"
  },
  "language_info": {
   "codemirror_mode": {
    "name": "ipython",
    "version": 3
   },
   "file_extension": ".py",
   "mimetype": "text/x-python",
   "name": "python",
   "nbconvert_exporter": "python",
   "pygments_lexer": "ipython3",
   "version": "3.7.11"
  }
 },
 "nbformat": 4,
 "nbformat_minor": 5
}
