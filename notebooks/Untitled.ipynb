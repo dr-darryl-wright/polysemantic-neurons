{
 "cells": [
  {
   "cell_type": "code",
   "execution_count": 1,
   "id": "93ba5e40",
   "metadata": {},
   "outputs": [],
   "source": [
    "import os\n",
    "import sys\n",
    "import itertools\n",
    "import matplotlib\n",
    "\n",
    "import numpy as np\n",
    "import tensorflow as tf\n",
    "import matplotlib.pyplot as plt\n",
    "import tensorflow.keras.backend as K\n",
    "\n",
    "from tqdm import tqdm"
   ]
  },
  {
   "cell_type": "code",
   "execution_count": 2,
   "id": "f7a7c1bc",
   "metadata": {},
   "outputs": [],
   "source": [
    "font = {'family' : 'normal',\n",
    "        'weight' : 'bold',\n",
    "        'size'   : 22}\n",
    "\n",
    "matplotlib.rc('font', **font)"
   ]
  },
  {
   "cell_type": "code",
   "execution_count": 3,
   "id": "991ccc1f",
   "metadata": {},
   "outputs": [],
   "source": [
    "np.random.seed(0)"
   ]
  },
  {
   "cell_type": "code",
   "execution_count": 4,
   "id": "ce9e4f52",
   "metadata": {},
   "outputs": [
    {
     "name": "stdout",
     "output_type": "stream",
     "text": [
      "(60000, 784)\n",
      "(10000, 784)\n"
     ]
    }
   ],
   "source": [
    "(x_train, y_train), (x_test, y_test) = tf.keras.datasets.mnist.load_data()\n",
    "\n",
    "x_train = x_train / 255.\n",
    "x_test = x_test / 255.\n",
    "\n",
    "y_train = tf.keras.utils.to_categorical(y_train, 10)\n",
    "y_test = tf.keras.utils.to_categorical(y_test, 10)\n",
    "\n",
    "y_train = np.argmax(y_train, axis=1)\n",
    "\n",
    "order = np.random.permutation(len(x_train))\n",
    "\n",
    "x_train = x_train[order]\n",
    "y_train = y_train[order]\n",
    "\n",
    "\n",
    "y_train = tf.keras.utils.to_categorical(y_train, 10)\n",
    "\n",
    "x_train_reshape = [x_train[i].reshape((784)) for i in range(len(x_train))]\n",
    "print(np.array(x_train_reshape).shape)\n",
    "\n",
    "x_test_reshape = [x_test[i].reshape((784)) for i in range(len(x_test))]\n",
    "print(np.array(x_test_reshape).shape)"
   ]
  },
  {
   "cell_type": "code",
   "execution_count": 5,
   "id": "8a49d7e6",
   "metadata": {},
   "outputs": [],
   "source": [
    "n_hidden_neurons = 256\n",
    "lr = 0.001\n",
    "epochs = 20\n",
    "batch_size = 128\n",
    "limit = (batch_size * (len(x_train) // batch_size)) # number of training examples to use. Must be multiple of batch_size\n",
    "test_limit = (batch_size * (len(x_test) // batch_size)) # Must be multiple of batch_size\n",
    "alpha = 1.0 # penalise polysemantic neurons."
   ]
  },
  {
   "cell_type": "code",
   "execution_count": 6,
   "id": "e9062a73",
   "metadata": {},
   "outputs": [
    {
     "name": "stderr",
     "output_type": "stream",
     "text": [
      "2022-06-08 08:17:51.706674: I tensorflow/core/platform/cpu_feature_guard.cc:142] Your CPU supports instructions that this TensorFlow binary was not compiled to use: AVX2 FMA\n",
      "2022-06-08 08:17:51.724198: I tensorflow/compiler/xla/service/service.cc:168] XLA service 0x7fb37ecda660 initialized for platform Host (this does not guarantee that XLA will be used). Devices:\n",
      "2022-06-08 08:17:51.724213: I tensorflow/compiler/xla/service/service.cc:176]   StreamExecutor device (0): Host, Default Version\n"
     ]
    }
   ],
   "source": [
    "i = tf.keras.layers.Input(shape=(28*28,))\n",
    "i2 = tf.keras.layers.Input(shape=(10,))\n",
    "e1 = tf.keras.layers.Dense(n_hidden_neurons, activation='relu', name='dense_1')(i)\n",
    "e2 = tf.keras.layers.Dense(n_hidden_neurons, activation='relu', name='dense_2')(e1)\n",
    "e3 = tf.keras.layers.Dense(n_hidden_neurons, activation='relu', name='dense_3')(e2)\n",
    "e4 = tf.keras.layers.Dense(n_hidden_neurons, activation='relu', name='dense_4')(e3)\n",
    "o = tf.keras.layers.Dense(10, activation='softmax', name='softmax')(e4)\n",
    "model = tf.keras.Model(inputs=[i, i2], outputs=o)"
   ]
  },
  {
   "cell_type": "code",
   "execution_count": 7,
   "id": "95e3b456",
   "metadata": {},
   "outputs": [],
   "source": [
    "model.load_weights('./mnist_penalise_polysemantic_neurons_all_classes_clusterability_weights_loss_test.h5')"
   ]
  },
  {
   "cell_type": "code",
   "execution_count": null,
   "id": "0a517014",
   "metadata": {},
   "outputs": [],
   "source": []
  }
 ],
 "metadata": {
  "kernelspec": {
   "display_name": "Python 3 (ipykernel)",
   "language": "python",
   "name": "python3"
  },
  "language_info": {
   "codemirror_mode": {
    "name": "ipython",
    "version": 3
   },
   "file_extension": ".py",
   "mimetype": "text/x-python",
   "name": "python",
   "nbconvert_exporter": "python",
   "pygments_lexer": "ipython3",
   "version": "3.7.11"
  }
 },
 "nbformat": 4,
 "nbformat_minor": 5
}
