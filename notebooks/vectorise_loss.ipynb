{
 "cells": [
  {
   "cell_type": "code",
   "execution_count": 1,
   "id": "613a3912",
   "metadata": {},
   "outputs": [],
   "source": [
    "import os\n",
    "import itertools\n",
    "import matplotlib\n",
    "\n",
    "import numpy as np\n",
    "import tensorflow as tf\n",
    "import matplotlib.pyplot as plt\n",
    "import tensorflow.keras.backend as K\n",
    "\n",
    "from tqdm import tqdm\n",
    "from scipy.spatial import distance"
   ]
  },
  {
   "cell_type": "code",
   "execution_count": 2,
   "id": "377bb624",
   "metadata": {},
   "outputs": [],
   "source": [
    "font = {'family' : 'normal',\n",
    "        'weight' : 'bold',\n",
    "        'size'   : 22}\n",
    "\n",
    "matplotlib.rc('font', **font)"
   ]
  },
  {
   "cell_type": "code",
   "execution_count": 3,
   "id": "15b69400",
   "metadata": {},
   "outputs": [],
   "source": [
    "np.random.seed(0)"
   ]
  },
  {
   "cell_type": "code",
   "execution_count": 4,
   "id": "56e08335",
   "metadata": {},
   "outputs": [
    {
     "name": "stdout",
     "output_type": "stream",
     "text": [
      "(60000, 784)\n",
      "(10000, 784)\n"
     ]
    }
   ],
   "source": [
    "(x_train, y_train), (x_test, y_test) = tf.keras.datasets.mnist.load_data()\n",
    "\n",
    "x_train = x_train / 255.\n",
    "x_test = x_test / 255.\n",
    "\n",
    "y_train = tf.keras.utils.to_categorical(y_train, 10)\n",
    "y_test = tf.keras.utils.to_categorical(y_test, 10)\n",
    "\n",
    "y_train = np.argmax(y_train, axis=1)\n",
    "\n",
    "order = np.random.permutation(len(x_train))\n",
    "\n",
    "x_train = x_train[order]\n",
    "y_train = y_train[order]\n",
    "\n",
    "\n",
    "y_train = tf.keras.utils.to_categorical(y_train, 10)\n",
    "\n",
    "x_train_reshape = [x_train[i].reshape((784)) for i in range(len(x_train))]\n",
    "print(np.array(x_train_reshape).shape)\n",
    "\n",
    "x_test_reshape = [x_test[i].reshape((784)) for i in range(len(x_test))]\n",
    "print(np.array(x_test_reshape).shape)"
   ]
  },
  {
   "cell_type": "code",
   "execution_count": 5,
   "id": "6945ac65",
   "metadata": {},
   "outputs": [],
   "source": [
    "n_hidden_neurons = 64\n",
    "lr = 0.001\n",
    "epochs = 200\n",
    "batch_size = 8\n",
    "limit = 4096 # number of training examples to use.\n",
    "alpha = 1.0 # penalise polysemantic neurons."
   ]
  },
  {
   "cell_type": "code",
   "execution_count": 6,
   "id": "1582d806",
   "metadata": {},
   "outputs": [],
   "source": [
    "assert (limit % 8 == 0)"
   ]
  },
  {
   "cell_type": "code",
   "execution_count": 7,
   "id": "6eb870e4",
   "metadata": {},
   "outputs": [
    {
     "name": "stderr",
     "output_type": "stream",
     "text": [
      "2022-05-25 20:26:43.815906: I tensorflow/core/platform/cpu_feature_guard.cc:142] Your CPU supports instructions that this TensorFlow binary was not compiled to use: AVX2 FMA\n",
      "2022-05-25 20:26:43.836781: I tensorflow/compiler/xla/service/service.cc:168] XLA service 0x7fc40e855ba0 initialized for platform Host (this does not guarantee that XLA will be used). Devices:\n",
      "2022-05-25 20:26:43.836797: I tensorflow/compiler/xla/service/service.cc:176]   StreamExecutor device (0): Host, Default Version\n"
     ]
    }
   ],
   "source": [
    "i = tf.keras.layers.Input(shape=(28*28,))\n",
    "i2 = tf.keras.layers.Input(shape=(10,))\n",
    "e = tf.keras.layers.Dense(n_hidden_neurons, activation='relu', name='dense_1')(i)\n",
    "o = tf.keras.layers.Dense(10, activation='softmax', name='softmax')(e)\n",
    "model = tf.keras.Model(inputs=[i, i2], outputs=o)"
   ]
  },
  {
   "cell_type": "markdown",
   "id": "d6d2640d",
   "metadata": {},
   "source": [
    "### define polysemantic loss"
   ]
  },
  {
   "cell_type": "code",
   "execution_count": 33,
   "id": "40c4f629",
   "metadata": {},
   "outputs": [],
   "source": [
    "def calculate_term1(e, c0, c1):\n",
    "    print(K.expand_dims(K.max(K.abs(tf.gather(indices=c0, params=e)), axis=1) + 1e-9).shape)\n",
    "    a = tf.gather(indices=c0, params=e) \\\n",
    "      / tf.tile(K.expand_dims(K.max(K.abs(tf.gather(indices=c0, params=e)), axis=1) + 1e-9), (1, e.shape[-1]))\n",
    "    b = tf.gather(indices=c1, params=e) \\\n",
    "      / tf.tile(K.expand_dims(K.max(K.abs(tf.gather(indices=c1, params=e)), axis=1) + 1e-9), (1, e.shape[-1]))\n",
    "    return K.sum(a*b, axis=1)\n",
    "\n",
    "def calculate_term2(e, c0, c1):\n",
    "  a = K.expand_dims(e[c0] / (K.max(K.abs(e[c0])) + 1e-9))\n",
    "  b = K.expand_dims(e[c1] / (K.max(K.abs(e[c1])) + 1e-9))\n",
    "  return K.dot(K.transpose(a), b)"
   ]
  },
  {
   "cell_type": "code",
   "execution_count": 34,
   "id": "4aa03c6e",
   "metadata": {},
   "outputs": [],
   "source": [
    "#https://stackoverflow.com/questions/62454500/how-to-use-tensorflow-custom-loss-for-a-keras-model\n",
    "def my_loss(y_true, y_pred, e, c0, c1, alpha):\n",
    "    #print(e.shape)\n",
    "    #print((1. - (tf.cast(tf.equal(K.argmax(tf.gather(indices=c0, params=y_true)), \n",
    "    #                                 K.argmax(tf.gather(indices=c1, params=y_true))), dtype='float32'))).shape)\n",
    "    #print(calculate_term(e, c0, c1).shape)\n",
    "    p_loss = (1. - (tf.cast(tf.equal(K.argmax(tf.gather(indices=c0, params=y_true)), \n",
    "                                     K.argmax(tf.gather(indices=c1, params=y_true))), dtype='float32'))) \\\n",
    "           * calculate_term1(e, c0, c1)\n",
    "    \n",
    "    loss = tf.keras.losses.CategoricalCrossentropy(from_logits=False)(y_true=y_true, \n",
    "                                                                      y_pred=y_pred)\n",
    "    loss += alpha * (K.sum(p_loss) / len(c0))\n",
    "    return loss"
   ]
  },
  {
   "cell_type": "markdown",
   "id": "0a835c01",
   "metadata": {},
   "source": [
    "### precalculate all indices for batch_size choose 2 pairs"
   ]
  },
  {
   "cell_type": "code",
   "execution_count": 35,
   "id": "cd19bc71",
   "metadata": {},
   "outputs": [],
   "source": [
    "c0, c1 = [], []\n",
    "for c in list(itertools.combinations(range(batch_size), 2)):\n",
    "    c0.append(c[0])\n",
    "    c1.append(c[1])"
   ]
  },
  {
   "cell_type": "code",
   "execution_count": 36,
   "id": "4fd423ac",
   "metadata": {},
   "outputs": [
    {
     "name": "stdout",
     "output_type": "stream",
     "text": [
      "28\n"
     ]
    }
   ],
   "source": [
    "print(len(c0))"
   ]
  },
  {
   "cell_type": "code",
   "execution_count": 37,
   "id": "5dc6d9b3",
   "metadata": {},
   "outputs": [
    {
     "name": "stdout",
     "output_type": "stream",
     "text": [
      "(28, 1)\n"
     ]
    }
   ],
   "source": [
    "model.add_loss(my_loss(i2, o, e, np.array(c0, dtype='int32'), np.array(c1, dtype='int32'), alpha))"
   ]
  },
  {
   "cell_type": "code",
   "execution_count": 38,
   "id": "ede7015a",
   "metadata": {},
   "outputs": [
    {
     "name": "stdout",
     "output_type": "stream",
     "text": [
      "WARNING:tensorflow:Output softmax missing from loss dictionary. We assume this was done on purpose. The fit and evaluate APIs will not be expecting any data to be passed to softmax.\n",
      "(28, 1)\n"
     ]
    }
   ],
   "source": [
    "def my_acc(y_true, y_pred):\n",
    "    y_pred = tf.cast(tf.math.greater(y_pred, tf.constant([0.5])), dtype='float32')\n",
    "    return tf.cast(tf.math.equal(y_true, y_pred), dtype='float32')\n",
    "\n",
    "def cce(y_true, y_pred):\n",
    "    return tf.keras.losses.CategoricalCrossentropy(\n",
    "        from_logits=False,\n",
    "        reduction=tf.keras.losses.Reduction.NONE\n",
    "    )(y_true=y_true, y_pred=y_pred)\n",
    "\n",
    "def ps_term1(y_true, e, c0, c1):\n",
    "    p_loss = (1. - (tf.cast(tf.equal(K.argmax(tf.gather(indices=c0, params=y_true)), \n",
    "                                     K.argmax(tf.gather(indices=c1, params=y_true))), dtype='float32'))) \\\n",
    "           * calculate_term1(e, c0, c1)\n",
    "    return tf.convert_to_tensor(p_loss)\n",
    "    \n",
    "def ps_term2(y_true, e, c0, c1):\n",
    "    p_loss = []\n",
    "    for i in range(len(c0)):\n",
    "         p_loss.append((1. - (tf.cast(tf.equal(K.argmax(y_true[c0[i]]), K.argmax(y_true[c1[i]])), dtype='float32'))) \\\n",
    "              * calculate_term2(e, c0[i], c1[i]))\n",
    "    return tf.convert_to_tensor(p_loss)\n",
    "\n",
    "model.compile(optimizer=tf.keras.optimizers.Adam(learning_rate=lr), \n",
    "              loss=None)\n",
    "\n",
    "model.add_metric(my_acc(i2, o), name='acc', aggregation='mean')\n",
    "model.add_metric(cce(i2, o), name='cce', aggregation='mean')\n",
    "model.add_metric(ps_term1(i2, e, c0, c1), name='ps1', aggregation='mean')\n",
    "model.add_metric(ps_term2(i2, e, c0, c1), name='ps2', aggregation='mean')"
   ]
  },
  {
   "cell_type": "code",
   "execution_count": 39,
   "id": "037487a7",
   "metadata": {},
   "outputs": [],
   "source": [
    "# class CustomCallback(tf.keras.callbacks.Callback):\n",
    "#     def __init__(self, n_hidden_neurons, save_path='./'):\n",
    "#         self.n_hidden_neurons = n_hidden_neurons\n",
    "#         self.save_path = save_path\n",
    "        \n",
    "#     def on_epoch_begin(self, epoch, logs=None):\n",
    "#         W = self.model.layers[1].get_weights()\n",
    "#         fig = plt.figure(figsize=(20,20))\n",
    "#         dim = int(np.ceil(np.sqrt(64)))\n",
    "#         for j in range(64):\n",
    "#             x_j = W[0][:,j] / np.sqrt(np.sum(np.dot(W[0][:,j], W[0][:,j].T)))\n",
    "#             ax = fig.add_subplot(dim,dim,j+1)\n",
    "#             ax.imshow(x_j.reshape((28,28)))\n",
    "#             plt.axis('off')\n",
    "#         plt.savefig(os.path.join(self.save_path, '{}.png'.format(epoch)), bbox_inches='tight')\n",
    "#         plt.close('all')"
   ]
  },
  {
   "cell_type": "code",
   "execution_count": null,
   "id": "3d725091",
   "metadata": {
    "scrolled": false
   },
   "outputs": [
    {
     "name": "stdout",
     "output_type": "stream",
     "text": [
      "Train on 4096 samples, validate on 80 samples\n",
      "Epoch 1/200\n",
      "4096/4096 [==============================] - 14s 4ms/sample - loss: 1.6831 - acc: 0.9247 - cce: 1.4687 - ps1: 0.2144 - ps2: 0.2144 - val_loss: 0.9781 - val_acc: 0.9550 - val_cce: 0.7589 - val_ps1: 0.2192 - val_ps2: 0.2192\n",
      "Epoch 2/200\n",
      "4096/4096 [==============================] - 11s 3ms/sample - loss: 0.6249 - acc: 0.9745 - cce: 0.4469 - ps1: 0.1780 - ps2: 0.1780 - val_loss: 0.6124 - val_acc: 0.9750 - val_cce: 0.4596 - val_ps1: 0.1528 - val_ps2: 0.1528\n",
      "Epoch 3/200\n",
      "4096/4096 [==============================] - 11s 3ms/sample - loss: 0.4137 - acc: 0.9854 - cce: 0.2810 - ps1: 0.1327 - ps2: 0.1327 - val_loss: 0.4892 - val_acc: 0.9775 - val_cce: 0.3836 - val_ps1: 0.1057 - val_ps2: 0.1057\n",
      "Epoch 4/200\n",
      "2768/4096 [===================>..........] - ETA: 3s - loss: 0.3308 - acc: 0.9882 - cce: 0.2185 - ps1: 0.1123 - ps2: 0.1123"
     ]
    }
   ],
   "source": [
    "history = model.fit([np.array(x_train_reshape)[:limit], y_train[:limit]],\n",
    "                    y=None,\n",
    "                    validation_data=([np.array(x_train_reshape)[limit:limit+80], \n",
    "                                     y_train[limit:limit+80]], None),\n",
    "                    batch_size=batch_size,\n",
    "                    epochs=epochs)\n",
    "#                     callbacks=[CustomCallback(n_hidden_neurons, '../video')])"
   ]
  },
  {
   "cell_type": "code",
   "execution_count": null,
   "id": "4b2305ad",
   "metadata": {},
   "outputs": [],
   "source": [
    "fig = plt.figure(figsize=(20,20))\n",
    "for j,m in enumerate(['loss', 'acc', 'cce', 'ps']):\n",
    "    ax = fig.add_subplot(2,2,j+1)\n",
    "    ax.plot(range(1,epochs+1), np.squeeze(history.history[m]), 'k-', lw=4)\n",
    "    t, = ax.plot(range(1,epochs+1), np.squeeze(history.history[m]), '-', color='#7E3F8F', lw=3)\n",
    "    ax.plot(range(1,epochs+1), np.squeeze(history.history['val_{}'.format(m)]), 'k-', lw=4)\n",
    "    v, = ax.plot(range(1,epochs+1), np.squeeze(history.history['val_{}'.format(m)]), '-', color='#3BCEAC', lw=3)\n",
    "    ax.set_ylabel(m)\n",
    "    ax.set_xlabel('epoch')\n",
    "    if j == 0:\n",
    "        ax.legend([t, v], ['train', 'val'])\n"
   ]
  },
  {
   "cell_type": "markdown",
   "id": "93db4c04",
   "metadata": {},
   "source": [
    "### calculate test set accuracy"
   ]
  },
  {
   "cell_type": "code",
   "execution_count": null,
   "id": "73f8a338",
   "metadata": {},
   "outputs": [],
   "source": [
    "inference = tf.keras.Model(inputs=i, outputs=o)\n",
    "y_pred_test = inference.predict(np.array(x_test_reshape))\n",
    "print(np.mean(my_acc(y_test, y_pred_test)))"
   ]
  },
  {
   "cell_type": "markdown",
   "id": "cca06bfd",
   "metadata": {},
   "source": [
    "### calculate activations across the training set"
   ]
  },
  {
   "cell_type": "code",
   "execution_count": null,
   "id": "ffe33452",
   "metadata": {},
   "outputs": [],
   "source": [
    "embed = tf.keras.Model(inputs=i, outputs=e)"
   ]
  },
  {
   "cell_type": "code",
   "execution_count": null,
   "id": "9e351734",
   "metadata": {},
   "outputs": [],
   "source": [
    "embed.layers[1].set_weights(model.layers[1].get_weights())\n",
    "activations_by_class = {}\n",
    "a = embed.predict(np.array(x_train_reshape))\n",
    "for j in tqdm(range(len(x_train_reshape[:limit]))):\n",
    "    try:\n",
    "        activations_by_class[np.argmax(y_train, axis=1)[j]] += np.squeeze(a[j])\n",
    "    except KeyError:\n",
    "        activations_by_class[np.argmax(y_train, axis=1)[j]] = np.squeeze(a[j])"
   ]
  },
  {
   "cell_type": "code",
   "execution_count": null,
   "id": "27ef5d7c",
   "metadata": {},
   "outputs": [],
   "source": [
    "fig = plt.figure(figsize=(20,20))\n",
    "classes = list(activations_by_class.keys())\n",
    "classes.sort()\n",
    "for i,k in enumerate(classes):\n",
    "    y_pos = np.arange(len(activations_by_class[k]))\n",
    "    ax = fig.add_subplot(2, 5, i+1)\n",
    "    ax.set_title(k)\n",
    "    ax.barh(y_pos, np.log(np.squeeze(activations_by_class[k])), align='center')\n",
    "    ax.plot([0,0],[-1,len(np.squeeze(activations_by_class[k]))], 'k-')\n",
    "    ax.set_ylim(-1,len(np.squeeze(activations_by_class[k])))\n",
    "    fig.text(0.5, 0.04, 'log summed activation', ha='center')\n",
    "    fig.text(0.04, 0.5, 'neuron index', va='center', rotation='vertical')"
   ]
  },
  {
   "cell_type": "markdown",
   "id": "1fba80b1",
   "metadata": {},
   "source": [
    "### calculate activations across the test set"
   ]
  },
  {
   "cell_type": "code",
   "execution_count": null,
   "id": "9c0712b9",
   "metadata": {},
   "outputs": [],
   "source": [
    "activations_by_class_test = {}\n",
    "a = embed.predict(np.array(x_test_reshape))\n",
    "for j in tqdm(range(len(x_test_reshape))):\n",
    "    try:\n",
    "        activations_by_class_test[np.argmax(y_test, axis=1)[j]] += np.squeeze(a[j])\n",
    "    except KeyError:\n",
    "        activations_by_class_test[np.argmax(y_test, axis=1)[j]] = np.squeeze(a[j])"
   ]
  },
  {
   "cell_type": "code",
   "execution_count": null,
   "id": "047dd616",
   "metadata": {},
   "outputs": [],
   "source": [
    "fig = plt.figure(figsize=(20,20))\n",
    "classes = list(activations_by_class_test.keys())\n",
    "classes.sort()\n",
    "for i,k in enumerate(classes):\n",
    "    y_pos = np.arange(len(activations_by_class_test[k]))\n",
    "    ax = fig.add_subplot(2, 5, i+1)\n",
    "    ax.set_title(k)\n",
    "    ax.barh(y_pos, np.log(np.squeeze(activations_by_class_test[k])), align='center')\n",
    "    ax.plot([0,0],[-1,len(np.squeeze(activations_by_class_test[k]))], 'k-')\n",
    "    ax.set_ylim(-1,len(np.squeeze(activations_by_class_test[k])))\n",
    "    fig.text(0.5, 0.04, 'log summed activation', ha='center')\n",
    "    fig.text(0.04, 0.5, 'neuron index', va='center', rotation='vertical')"
   ]
  },
  {
   "cell_type": "markdown",
   "id": "b5998de4",
   "metadata": {},
   "source": [
    "### measure degree of polysemantism across training set activations"
   ]
  },
  {
   "cell_type": "code",
   "execution_count": null,
   "id": "d601ca13",
   "metadata": {},
   "outputs": [],
   "source": [
    "sum = 0\n",
    "for c in list(itertools.combinations(range(10), 2)):\n",
    "    a = (np.squeeze(activations_by_class[c[0]]) / (np.max(np.abs(np.squeeze(activations_by_class[c[0]])))) + 1e-9)\n",
    "    b = (np.squeeze(activations_by_class[c[1]]) / (np.max(np.abs(np.squeeze(activations_by_class[c[1]])))) + 1e-9)\n",
    "    sum += np.dot(np.transpose(a), b)\n",
    "print(sum/len(list(itertools.combinations(range(10), 2))))"
   ]
  },
  {
   "cell_type": "markdown",
   "id": "8e79961c",
   "metadata": {},
   "source": [
    "### measure degree of polysemantism across test set activations"
   ]
  },
  {
   "cell_type": "code",
   "execution_count": null,
   "id": "4ac85d3d",
   "metadata": {},
   "outputs": [],
   "source": [
    "sum = 0\n",
    "for c in list(itertools.combinations(range(10), 2)):\n",
    "    a = (np.squeeze(activations_by_class_test[c[0]]) / (np.max(np.abs(np.squeeze(activations_by_class_test[c[0]])))) + 1e-9)\n",
    "    b = (np.squeeze(activations_by_class_test[c[1]]) / (np.max(np.abs(np.squeeze(activations_by_class_test[c[1]])))) + 1e-9)\n",
    "    sum += np.dot(np.transpose(a), b)\n",
    "print(sum/len(list(itertools.combinations(range(10), 2))))"
   ]
  },
  {
   "cell_type": "markdown",
   "id": "e3c596c7",
   "metadata": {},
   "source": [
    "### visualise hidden neurons"
   ]
  },
  {
   "cell_type": "code",
   "execution_count": null,
   "id": "4a5b5998",
   "metadata": {},
   "outputs": [],
   "source": [
    "W = embed.layers[1].get_weights()\n",
    "fig = plt.figure(figsize=(20,20))\n",
    "dim = int(np.ceil(np.sqrt(n_hidden_neurons)))\n",
    "for j in range(n_hidden_neurons):\n",
    "    x_j = W[0][:,j] / np.sqrt(np.sum(np.dot(W[0][:,j], W[0][:,j].T)))\n",
    "    ax = fig.add_subplot(dim,dim,j+1)\n",
    "    ax.imshow(x_j.reshape((28,28)))\n",
    "    plt.axis('off')\n",
    "plt.show()"
   ]
  },
  {
   "cell_type": "code",
   "execution_count": null,
   "id": "8bea94ec",
   "metadata": {},
   "outputs": [],
   "source": []
  }
 ],
 "metadata": {
  "kernelspec": {
   "display_name": "Python 3 (ipykernel)",
   "language": "python",
   "name": "python3"
  },
  "language_info": {
   "codemirror_mode": {
    "name": "ipython",
    "version": 3
   },
   "file_extension": ".py",
   "mimetype": "text/x-python",
   "name": "python",
   "nbconvert_exporter": "python",
   "pygments_lexer": "ipython3",
   "version": "3.7.11"
  }
 },
 "nbformat": 4,
 "nbformat_minor": 5
}
