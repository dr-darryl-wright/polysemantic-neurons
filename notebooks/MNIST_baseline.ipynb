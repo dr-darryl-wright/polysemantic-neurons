{
 "cells": [
  {
   "cell_type": "code",
   "execution_count": null,
   "id": "613a3912",
   "metadata": {},
   "outputs": [],
   "source": [
    "import itertools\n",
    "import matplotlib\n",
    "\n",
    "import numpy as np\n",
    "import tensorflow as tf\n",
    "import matplotlib.pyplot as plt\n",
    "import tensorflow.keras.backend as K\n",
    "\n",
    "from tqdm import tqdm\n",
    "from scipy.spatial import distance"
   ]
  },
  {
   "cell_type": "code",
   "execution_count": null,
   "id": "d68b95e8",
   "metadata": {},
   "outputs": [],
   "source": [
    "font = {'family' : 'normal',\n",
    "        'weight' : 'bold',\n",
    "        'size'   : 22}\n",
    "\n",
    "matplotlib.rc('font', **font)"
   ]
  },
  {
   "cell_type": "code",
   "execution_count": null,
   "id": "15b69400",
   "metadata": {},
   "outputs": [],
   "source": [
    "np.random.seed(0)"
   ]
  },
  {
   "cell_type": "code",
   "execution_count": null,
   "id": "56e08335",
   "metadata": {},
   "outputs": [],
   "source": [
    "(x_train, y_train), (x_test, y_test) = tf.keras.datasets.mnist.load_data()\n",
    "\n",
    "x_train = x_train / 255.\n",
    "x_test = x_test / 255.\n",
    "\n",
    "y_train = tf.keras.utils.to_categorical(y_train, 10)\n",
    "y_test = tf.keras.utils.to_categorical(y_test, 10)\n",
    "\n",
    "y = np.argmax(y_train, axis=1)\n",
    "x_train_1s = x_train[np.where(y==1)]\n",
    "x_train_8s = x_train[np.where(y==8)]\n",
    "y_train_1s = y[np.where(y==1)]\n",
    "y_train_8s = y[np.where(y==8)]\n",
    "\n",
    "x_train_1s_8s = np.concatenate((x_train_1s, x_train_8s))\n",
    "y_train_1s_8s = np.concatenate((y_train_1s, y_train_8s))\n",
    "\n",
    "y_train_1s_8s[np.where(y_train_1s_8s==8)] = 0\n",
    "\n",
    "order = np.random.permutation(len(x_train_1s_8s))\n",
    "\n",
    "x_train_1s_8s = x_train_1s_8s[order]\n",
    "y_train_1s_8s = y_train_1s_8s[order]\n",
    "\n",
    "print(y_train_1s_8s)\n",
    "\n",
    "y_train_1s_8s = tf.keras.utils.to_categorical(y_train_1s_8s, 2)\n",
    "\n",
    "x_train_1s_8s_reshape = [x_train_1s_8s[i].reshape((784)) for i in range(len(x_train_1s_8s))]\n",
    "print(np.array(x_train_1s_8s_reshape).shape)"
   ]
  },
  {
   "cell_type": "code",
   "execution_count": null,
   "id": "6945ac65",
   "metadata": {},
   "outputs": [],
   "source": [
    "n_hidden_neurons = 4\n",
    "lr = 0.001\n",
    "epochs = 200\n",
    "batch_size = 8\n",
    "limit = 256\n",
    "alpha = 0.0 # ignore polysemantic term in loss function."
   ]
  },
  {
   "cell_type": "code",
   "execution_count": null,
   "id": "6eb870e4",
   "metadata": {},
   "outputs": [],
   "source": [
    "i = tf.keras.layers.Input(shape=(28*28,))\n",
    "i2 = tf.keras.layers.Input(shape=(2,))\n",
    "e = tf.keras.layers.Dense(n_hidden_neurons, activation='relu', name='dense_1')(i)\n",
    "o = tf.keras.layers.Dense(2, activation='softmax', name='softmax')(e)\n",
    "model = tf.keras.Model(inputs=[i, i2], outputs=o)"
   ]
  },
  {
   "cell_type": "code",
   "execution_count": null,
   "id": "40c4f629",
   "metadata": {},
   "outputs": [],
   "source": [
    "def calculate_term(e, c0, c1):\n",
    "  a = K.expand_dims(e[c0] / (K.max(K.abs(e[c0])) + 1e-9))\n",
    "  b = K.expand_dims(e[c1] / (K.max(K.abs(e[c1])) + 1e-9))\n",
    "  if c0==c1:\n",
    "    return 0\n",
    "  else:\n",
    "    return K.dot(K.transpose(a), b)"
   ]
  },
  {
   "cell_type": "code",
   "execution_count": null,
   "id": "4aa03c6e",
   "metadata": {},
   "outputs": [],
   "source": [
    "#https://stackoverflow.com/questions/62454500/how-to-use-tensorflow-custom-loss-for-a-keras-model\n",
    "def my_loss(y_true, y_pred, e, c0, c1, alpha):\n",
    "    p_loss = 0\n",
    "    for i in range(len(c0)):\n",
    "      p_loss += calculate_term(e, c0[i], c1[i])\n",
    "\n",
    "    loss = tf.keras.losses.CategoricalCrossentropy(from_logits=False)(y_true=y_true, \n",
    "                                                                      y_pred=y_pred)\n",
    "    loss += alpha * (p_loss / len(c0))\n",
    "    return loss"
   ]
  },
  {
   "cell_type": "code",
   "execution_count": null,
   "id": "cd19bc71",
   "metadata": {},
   "outputs": [],
   "source": [
    "c0, c1 = [], []\n",
    "for c in list(itertools.combinations(range(batch_size), 2)):\n",
    "    c0.append(c[0])\n",
    "    c1.append(c[1])"
   ]
  },
  {
   "cell_type": "code",
   "execution_count": null,
   "id": "4fd423ac",
   "metadata": {},
   "outputs": [],
   "source": [
    "print(len(c0))"
   ]
  },
  {
   "cell_type": "code",
   "execution_count": null,
   "id": "5dc6d9b3",
   "metadata": {},
   "outputs": [],
   "source": [
    "model.add_loss(my_loss(i2, o, e, np.array(c0, dtype='int32'), np.array(c1, dtype='int32'), alpha))"
   ]
  },
  {
   "cell_type": "code",
   "execution_count": null,
   "id": "ede7015a",
   "metadata": {},
   "outputs": [],
   "source": [
    "def my_acc(y_true, y_pred):\n",
    "    y_pred = tf.cast(tf.math.greater(y_pred, tf.constant([0.5])), dtype='float32')\n",
    "    return tf.cast(tf.math.equal(y_true, y_pred), dtype='float32')\n",
    "    \n",
    "model.compile(optimizer=tf.keras.optimizers.Adam(learning_rate=lr), \n",
    "              loss=None)\n",
    "\n",
    "model.add_metric(my_acc(i2, o), name='acc', aggregation='mean')"
   ]
  },
  {
   "cell_type": "code",
   "execution_count": null,
   "id": "3d725091",
   "metadata": {
    "scrolled": true
   },
   "outputs": [],
   "source": [
    "model.fit([np.array(x_train_1s_8s_reshape)[:limit], y_train_1s_8s[:limit]],\n",
    "          y=None,\n",
    "          batch_size=batch_size,\n",
    "          epochs=epochs)"
   ]
  },
  {
   "cell_type": "code",
   "execution_count": null,
   "id": "ffe33452",
   "metadata": {},
   "outputs": [],
   "source": [
    "embed = tf.keras.Model(inputs=i, outputs=e)"
   ]
  },
  {
   "cell_type": "code",
   "execution_count": null,
   "id": "9e351734",
   "metadata": {},
   "outputs": [],
   "source": [
    "embed.layers[1].set_weights(model.layers[1].get_weights())\n",
    "activations_by_class = {}\n",
    "a = embed.predict(np.array(x_train_1s_8s_reshape))\n",
    "for i in tqdm(range(len(x_train_1s_8s_reshape[:limit]))):\n",
    "    try:\n",
    "        activations_by_class[np.argmax(y_train_1s_8s, axis=1)[i]] += np.squeeze(a[i])\n",
    "    except KeyError:\n",
    "        activations_by_class[np.argmax(y_train_1s_8s, axis=1)[i]] = np.squeeze(a[i])"
   ]
  },
  {
   "cell_type": "code",
   "execution_count": null,
   "id": "27ef5d7c",
   "metadata": {},
   "outputs": [],
   "source": [
    "fig = plt.figure(figsize=(20,20))\n",
    "for i,k in enumerate(activations_by_class.keys()):\n",
    "    y_pos = np.arange(len(activations_by_class[k]))\n",
    "    ax = fig.add_subplot(1, 2, i+1)\n",
    "    ax.set_title(k)\n",
    "    ax.barh(y_pos, np.squeeze(activations_by_class[k]), align='center')\n",
    "    ax.plot([0,0],[-1,len(np.squeeze(activations_by_class[k]))], 'k-')\n",
    "    ax.set_ylim(-1,len(np.squeeze(activations_by_class[k])))"
   ]
  },
  {
   "cell_type": "code",
   "execution_count": null,
   "id": "4a5b5998",
   "metadata": {},
   "outputs": [],
   "source": [
    "W = embed.layers[1].get_weights()\n",
    "fig = plt.figure(figsize=(20,20))\n",
    "dim = int(np.ceil(np.sqrt(n_hidden_neurons)))\n",
    "for j in range(n_hidden_neurons):\n",
    "  x_j = W[0][:,j] / np.sqrt(np.sum(np.dot(W[0][:,j], W[0][:,j].T)))\n",
    "  ax = fig.add_subplot(dim,dim,j+1)\n",
    "  ax.imshow(x_j.reshape((28,28)))\n",
    "  plt.axis('off')\n",
    "plt.show()"
   ]
  }
 ],
 "metadata": {
  "kernelspec": {
   "display_name": "Python 3 (ipykernel)",
   "language": "python",
   "name": "python3"
  },
  "language_info": {
   "codemirror_mode": {
    "name": "ipython",
    "version": 3
   },
   "file_extension": ".py",
   "mimetype": "text/x-python",
   "name": "python",
   "nbconvert_exporter": "python",
   "pygments_lexer": "ipython3",
   "version": "3.7.11"
  }
 },
 "nbformat": 4,
 "nbformat_minor": 5
}
