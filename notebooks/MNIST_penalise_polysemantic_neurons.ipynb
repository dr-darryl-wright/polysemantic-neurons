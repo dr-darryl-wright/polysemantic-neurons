{
 "cells": [
  {
   "cell_type": "code",
   "execution_count": 1,
   "id": "613a3912",
   "metadata": {},
   "outputs": [],
   "source": [
    "import itertools\n",
    "import matplotlib\n",
    "\n",
    "import numpy as np\n",
    "import tensorflow as tf\n",
    "import matplotlib.pyplot as plt\n",
    "import tensorflow.keras.backend as K\n",
    "\n",
    "from tqdm import tqdm\n",
    "from scipy.spatial import distance"
   ]
  },
  {
   "cell_type": "code",
   "execution_count": 2,
   "id": "009ffa91",
   "metadata": {},
   "outputs": [],
   "source": [
    "font = {'family' : 'normal',\n",
    "        'weight' : 'bold',\n",
    "        'size'   : 22}\n",
    "\n",
    "matplotlib.rc('font', **font)"
   ]
  },
  {
   "cell_type": "code",
   "execution_count": 3,
   "id": "15b69400",
   "metadata": {},
   "outputs": [],
   "source": [
    "np.random.seed(0)"
   ]
  },
  {
   "cell_type": "code",
   "execution_count": 4,
   "id": "56e08335",
   "metadata": {},
   "outputs": [
    {
     "name": "stdout",
     "output_type": "stream",
     "text": [
      "[0 1 1 ... 0 0 1]\n",
      "(12593, 784)\n"
     ]
    }
   ],
   "source": [
    "(x_train, y_train), (x_test, y_test) = tf.keras.datasets.mnist.load_data()\n",
    "\n",
    "x_train = x_train / 255.\n",
    "x_test = x_test / 255.\n",
    "\n",
    "y_train = tf.keras.utils.to_categorical(y_train, 10)\n",
    "y_test = tf.keras.utils.to_categorical(y_test, 10)\n",
    "\n",
    "y = np.argmax(y_train, axis=1)\n",
    "x_train_1s = x_train[np.where(y==1)]\n",
    "x_train_8s = x_train[np.where(y==8)]\n",
    "y_train_1s = y[np.where(y==1)]\n",
    "y_train_8s = y[np.where(y==8)]\n",
    "\n",
    "x_train_1s_8s = np.concatenate((x_train_1s, x_train_8s))\n",
    "y_train_1s_8s = np.concatenate((y_train_1s, y_train_8s))\n",
    "\n",
    "y_train_1s_8s[np.where(y_train_1s_8s==8)] = 0\n",
    "\n",
    "order = np.random.permutation(len(x_train_1s_8s))\n",
    "\n",
    "x_train_1s_8s = x_train_1s_8s[order]\n",
    "y_train_1s_8s = y_train_1s_8s[order]\n",
    "\n",
    "print(y_train_1s_8s)\n",
    "\n",
    "y_train_1s_8s = tf.keras.utils.to_categorical(y_train_1s_8s, 2)\n",
    "\n",
    "x_train_1s_8s_reshape = [x_train_1s_8s[i].reshape((784)) for i in range(len(x_train_1s_8s))]\n",
    "print(np.array(x_train_1s_8s_reshape).shape)"
   ]
  },
  {
   "cell_type": "code",
   "execution_count": 5,
   "id": "6945ac65",
   "metadata": {},
   "outputs": [],
   "source": [
    "n_hidden_neurons = 4\n",
    "lr = 0.0001\n",
    "epochs = 200\n",
    "batch_size = 8\n",
    "limit = 256\n",
    "alpha = 1.0"
   ]
  },
  {
   "cell_type": "code",
   "execution_count": 6,
   "id": "6eb870e4",
   "metadata": {},
   "outputs": [
    {
     "name": "stderr",
     "output_type": "stream",
     "text": [
      "2022-05-25 19:43:03.347465: I tensorflow/core/platform/cpu_feature_guard.cc:142] Your CPU supports instructions that this TensorFlow binary was not compiled to use: AVX2 FMA\n",
      "2022-05-25 19:43:03.366410: I tensorflow/compiler/xla/service/service.cc:168] XLA service 0x7fedc4119310 initialized for platform Host (this does not guarantee that XLA will be used). Devices:\n",
      "2022-05-25 19:43:03.366428: I tensorflow/compiler/xla/service/service.cc:176]   StreamExecutor device (0): Host, Default Version\n"
     ]
    }
   ],
   "source": [
    "i = tf.keras.layers.Input(shape=(28*28,))\n",
    "i2 = tf.keras.layers.Input(shape=(2,))\n",
    "e = tf.keras.layers.Dense(n_hidden_neurons, activation='relu', name='dense_1')(i)\n",
    "o = tf.keras.layers.Dense(2, activation='softmax', name='softmax')(e)\n",
    "model = tf.keras.Model(inputs=[i, i2], outputs=o)"
   ]
  },
  {
   "cell_type": "code",
   "execution_count": 27,
   "id": "40c4f629",
   "metadata": {},
   "outputs": [],
   "source": [
    "def calculate_term(e, c0, c1):\n",
    "    a = tf.gather(indices=c0, params=e) / (K.max(K.abs(tf.gather(indices=c0, params=e))) + 1e-9)\n",
    "    b = tf.gather(indices=c1, params=e) / (K.max(K.abs(tf.gather(indices=c1, params=e))) + 1e-9)\n",
    "    #print(a.shape)\n",
    "    #print(K.dot(a, K.transpose(b)))\n",
    "    return K.sum(K.dot(a, K.transpose(b)))"
   ]
  },
  {
   "cell_type": "code",
   "execution_count": 28,
   "id": "4aa03c6e",
   "metadata": {},
   "outputs": [],
   "source": [
    "#https://stackoverflow.com/questions/62454500/how-to-use-tensorflow-custom-loss-for-a-keras-model\n",
    "#@tf.function\n",
    "def my_loss(y_true, y_pred, e, c0, c1, alpha):\n",
    "#     p_loss = 0.\n",
    "#     for i in range(len(c0)):\n",
    "#         p_loss += (1. - tf.cast(tf.equal(y_true[c0[i]], y_true[c1[i]]), dtype='float32')) \\\n",
    "#                * calculate_term(e, c0[i], c1[i])\n",
    "    p_loss = (1. - (tf.cast(tf.equal(K.argmax(tf.gather(indices=c0, params=y_true)), \n",
    "                                     K.argmax(tf.gather(indices=c1, params=y_true))), dtype='float32'))) \\\n",
    "           * calculate_term(e, c0, c1)\n",
    "    loss = tf.keras.losses.CategoricalCrossentropy(from_logits=False)(y_true=y_true, \n",
    "                                                                      y_pred=y_pred)\n",
    "\n",
    "    loss = loss + alpha * (p_loss / len(c0))\n",
    "    return loss"
   ]
  },
  {
   "cell_type": "code",
   "execution_count": 29,
   "id": "cd19bc71",
   "metadata": {},
   "outputs": [],
   "source": [
    "c0, c1 = [], []\n",
    "for c in list(itertools.combinations(range(batch_size), 2)):\n",
    "    c0.append(c[0])\n",
    "    c1.append(c[1])"
   ]
  },
  {
   "cell_type": "code",
   "execution_count": 30,
   "id": "4fd423ac",
   "metadata": {},
   "outputs": [
    {
     "name": "stdout",
     "output_type": "stream",
     "text": [
      "28\n"
     ]
    }
   ],
   "source": [
    "print(len(c0))"
   ]
  },
  {
   "cell_type": "code",
   "execution_count": 31,
   "id": "5dc6d9b3",
   "metadata": {
    "scrolled": false
   },
   "outputs": [],
   "source": [
    "model.add_loss(my_loss(i2, o, e, np.array(c0, dtype='int32'), np.array(c1, dtype='int32'), alpha))"
   ]
  },
  {
   "cell_type": "code",
   "execution_count": 32,
   "id": "ede7015a",
   "metadata": {
    "scrolled": false
   },
   "outputs": [
    {
     "name": "stdout",
     "output_type": "stream",
     "text": [
      "WARNING:tensorflow:Output softmax missing from loss dictionary. We assume this was done on purpose. The fit and evaluate APIs will not be expecting any data to be passed to softmax.\n"
     ]
    }
   ],
   "source": [
    "def my_acc(y_true, y_pred):\n",
    "    y_pred = tf.cast(tf.math.greater(y_pred, tf.constant([0.5])), dtype='float32')\n",
    "    return tf.cast(tf.math.equal(y_true, y_pred), dtype='float32')\n",
    "\n",
    "def cce(y_true, y_pred):\n",
    "    return tf.keras.losses.CategoricalCrossentropy(\n",
    "        from_logits=False,\n",
    "        reduction=tf.keras.losses.Reduction.NONE\n",
    "    )(y_true=y_true, y_pred=y_pred)\n",
    "\n",
    "def ps_term(y_true, e, c0, c1):\n",
    "    p_loss = (1. - (tf.cast(tf.equal(K.argmax(tf.gather(indices=c0, params=y_true)), \n",
    "                                     K.argmax(tf.gather(indices=c1, params=y_true))), dtype='float32'))) \\\n",
    "           * calculate_term(e, c0, c1)\n",
    "    return tf.convert_to_tensor(p_loss)\n",
    "    \n",
    "model.compile(optimizer=tf.keras.optimizers.Adam(learning_rate=lr), \n",
    "              loss=None)\n",
    "\n",
    "model.add_metric(my_acc(i2, o), name='acc', aggregation='mean')\n",
    "model.add_metric(cce(i2, o), name='cce', aggregation='mean')\n",
    "model.add_metric(ps_term(i2, e, c0, c1), name='ps', aggregation='mean')"
   ]
  },
  {
   "cell_type": "code",
   "execution_count": null,
   "id": "3d725091",
   "metadata": {
    "scrolled": false
   },
   "outputs": [
    {
     "name": "stdout",
     "output_type": "stream",
     "text": [
      "Train on 256 samples\n",
      "Epoch 1/200\n",
      "256/256 [==============================] - 2s 8ms/sample - loss: 5.9296 - acc: 0.3926 - cce: 0.7096 - ps: 21.6388\n",
      "Epoch 2/200\n",
      "256/256 [==============================] - 0s 863us/sample - loss: 5.0153 - acc: 0.4180 - cce: 0.7059 - ps: 15.3407\n",
      "Epoch 3/200\n",
      "256/256 [==============================] - 0s 878us/sample - loss: 4.5387 - acc: 0.4336 - cce: 0.7031 - ps: 12.0838\n",
      "Epoch 4/200\n",
      "256/256 [==============================] - 0s 850us/sample - loss: 4.5227 - acc: 0.4688 - cce: 0.7011 - ps: 12.0272\n",
      "Epoch 5/200\n",
      "256/256 [==============================] - 0s 861us/sample - loss: 3.9668 - acc: 0.4883 - cce: 0.6989 - ps: 8.1989\n",
      "Epoch 6/200\n",
      "256/256 [==============================] - 0s 862us/sample - loss: 3.7666 - acc: 0.4922 - cce: 0.6976 - ps: 6.8333\n",
      "Epoch 7/200\n",
      "256/256 [==============================] - 0s 846us/sample - loss: 3.7440 - acc: 0.4883 - cce: 0.6966 - ps: 6.7027\n",
      "Epoch 8/200\n",
      "256/256 [==============================] - 0s 846us/sample - loss: 3.8709 - acc: 0.5039 - cce: 0.6960 - ps: 7.6069\n",
      "Epoch 9/200\n",
      "256/256 [==============================] - 0s 905us/sample - loss: 3.7117 - acc: 0.5078 - cce: 0.6957 - ps: 6.5031\n",
      "Epoch 10/200\n",
      "256/256 [==============================] - 0s 846us/sample - loss: 3.2807 - acc: 0.5078 - cce: 0.6957 - ps: 3.4861\n",
      "Epoch 11/200\n",
      "256/256 [==============================] - 0s 866us/sample - loss: 3.3643 - acc: 0.5195 - cce: 0.6955 - ps: 4.0758\n",
      "Epoch 12/200\n",
      "256/256 [==============================] - 0s 874us/sample - loss: 3.3233 - acc: 0.5234 - cce: 0.6953 - ps: 3.7937\n",
      "Epoch 13/200\n",
      "256/256 [==============================] - 0s 890us/sample - loss: 3.3894 - acc: 0.5234 - cce: 0.6951 - ps: 4.2616\n",
      "Epoch 14/200\n",
      "256/256 [==============================] - 0s 891us/sample - loss: 3.3142 - acc: 0.5234 - cce: 0.6950 - ps: 3.7400\n",
      "Epoch 15/200\n",
      "256/256 [==============================] - 0s 874us/sample - loss: 3.2077 - acc: 0.5195 - cce: 0.6948 - ps: 2.9978\n",
      "Epoch 16/200\n",
      "256/256 [==============================] - 0s 888us/sample - loss: 3.1502 - acc: 0.5234 - cce: 0.6948 - ps: 2.5981\n",
      "Epoch 17/200\n",
      "256/256 [==============================] - 0s 863us/sample - loss: 3.1536 - acc: 0.5273 - cce: 0.6947 - ps: 2.6251\n",
      "Epoch 18/200\n",
      "256/256 [==============================] - 0s 854us/sample - loss: 3.1930 - acc: 0.5195 - cce: 0.6948 - ps: 2.8972\n",
      "Epoch 19/200\n",
      "256/256 [==============================] - 0s 904us/sample - loss: 3.1976 - acc: 0.5195 - cce: 0.6948 - ps: 2.9300\n",
      "Epoch 20/200\n",
      "256/256 [==============================] - 0s 898us/sample - loss: 3.1150 - acc: 0.5195 - cce: 0.6947 - ps: 2.3526\n",
      "Epoch 21/200\n",
      "256/256 [==============================] - 0s 845us/sample - loss: 3.0662 - acc: 0.5195 - cce: 0.6947 - ps: 2.0121\n",
      "Epoch 22/200\n",
      "256/256 [==============================] - 0s 861us/sample - loss: 3.0834 - acc: 0.5195 - cce: 0.6946 - ps: 2.1350\n",
      "Epoch 23/200\n",
      "256/256 [==============================] - 0s 865us/sample - loss: 2.9906 - acc: 0.5195 - cce: 0.6943 - ps: 1.4927\n",
      "Epoch 24/200\n",
      "256/256 [==============================] - 0s 863us/sample - loss: 3.0234 - acc: 0.5195 - cce: 0.6943 - ps: 1.7232\n",
      "Epoch 25/200\n",
      "256/256 [==============================] - 0s 862us/sample - loss: 3.1267 - acc: 0.5195 - cce: 0.6942 - ps: 2.4501\n",
      "Epoch 26/200\n",
      "256/256 [==============================] - 0s 863us/sample - loss: 2.9518 - acc: 0.5195 - cce: 0.6941 - ps: 1.2277\n",
      "Epoch 27/200\n",
      "256/256 [==============================] - 0s 862us/sample - loss: 2.9313 - acc: 0.5195 - cce: 0.6940 - ps: 1.0863\n",
      "Epoch 28/200\n",
      "256/256 [==============================] - 0s 863us/sample - loss: 2.9834 - acc: 0.5195 - cce: 0.6940 - ps: 1.4528\n",
      "Epoch 29/200\n",
      "256/256 [==============================] - 0s 850us/sample - loss: 2.9045 - acc: 0.5195 - cce: 0.6939 - ps: 0.9015\n",
      "Epoch 30/200\n",
      "256/256 [==============================] - 0s 870us/sample - loss: 2.9347 - acc: 0.5234 - cce: 0.6939 - ps: 1.1140\n",
      "Epoch 31/200\n",
      "256/256 [==============================] - 0s 900us/sample - loss: 2.9865 - acc: 0.5234 - cce: 0.6939 - ps: 1.4771\n",
      "Epoch 32/200\n",
      "256/256 [==============================] - 0s 872us/sample - loss: 2.8413 - acc: 0.5234 - cce: 0.6938 - ps: 0.4625\n",
      "Epoch 33/200\n",
      "256/256 [==============================] - 0s 865us/sample - loss: 3.0718 - acc: 0.5273 - cce: 0.6937 - ps: 2.0778\n",
      "Epoch 34/200\n",
      "256/256 [==============================] - 0s 872us/sample - loss: 2.9188 - acc: 0.5273 - cce: 0.6937 - ps: 1.0089\n",
      "Epoch 35/200\n",
      "256/256 [==============================] - 0s 849us/sample - loss: 2.9881 - acc: 0.5273 - cce: 0.6936 - ps: 1.4958\n",
      "Epoch 36/200\n",
      "256/256 [==============================] - 0s 851us/sample - loss: 3.0246 - acc: 0.5273 - cce: 0.6935 - ps: 1.7545\n",
      "Epoch 37/200\n",
      "256/256 [==============================] - 0s 860us/sample - loss: 2.9356 - acc: 0.5273 - cce: 0.6934 - ps: 1.1343\n",
      "Epoch 38/200\n",
      "256/256 [==============================] - 0s 889us/sample - loss: 2.9497 - acc: 0.5273 - cce: 0.6933 - ps: 1.2351\n",
      "Epoch 39/200\n",
      "256/256 [==============================] - 0s 859us/sample - loss: 2.9581 - acc: 0.5273 - cce: 0.6932 - ps: 1.2956\n",
      "Epoch 40/200\n",
      "256/256 [==============================] - 0s 847us/sample - loss: 2.8982 - acc: 0.5273 - cce: 0.6930 - ps: 0.8826\n",
      "Epoch 41/200\n",
      "256/256 [==============================] - 0s 876us/sample - loss: 2.9327 - acc: 0.5273 - cce: 0.6930 - ps: 1.1250\n",
      "Epoch 42/200\n",
      "256/256 [==============================] - 0s 858us/sample - loss: 2.9101 - acc: 0.5273 - cce: 0.6930 - ps: 0.9682\n",
      "Epoch 43/200\n",
      "256/256 [==============================] - 0s 866us/sample - loss: 2.9825 - acc: 0.5273 - cce: 0.6929 - ps: 1.4759\n",
      "Epoch 44/200\n",
      "256/256 [==============================] - 0s 915us/sample - loss: 2.8907 - acc: 0.5273 - cce: 0.6929 - ps: 0.8348\n",
      "Epoch 45/200\n",
      "256/256 [==============================] - 0s 867us/sample - loss: 2.8714 - acc: 0.5273 - cce: 0.6928 - ps: 0.7019\n",
      "Epoch 46/200\n",
      "256/256 [==============================] - 0s 851us/sample - loss: 2.9921 - acc: 0.5273 - cce: 0.6927 - ps: 1.5490\n",
      "Epoch 47/200\n",
      "256/256 [==============================] - 0s 882us/sample - loss: 2.9527 - acc: 0.5273 - cce: 0.6928 - ps: 1.2701\n",
      "Epoch 48/200\n",
      "256/256 [==============================] - 0s 894us/sample - loss: 2.9937 - acc: 0.5273 - cce: 0.6928 - ps: 1.5582\n",
      "Epoch 49/200\n",
      "256/256 [==============================] - 0s 882us/sample - loss: 3.0110 - acc: 0.5273 - cce: 0.6928 - ps: 1.6781\n",
      "Epoch 50/200\n",
      "256/256 [==============================] - 0s 876us/sample - loss: 2.9221 - acc: 0.5273 - cce: 0.6928 - ps: 1.0561\n",
      "Epoch 51/200\n",
      "256/256 [==============================] - 0s 862us/sample - loss: 2.9110 - acc: 0.5273 - cce: 0.6927 - ps: 0.9799\n",
      "Epoch 52/200\n",
      "256/256 [==============================] - 0s 858us/sample - loss: 2.9735 - acc: 0.5273 - cce: 0.6927 - ps: 1.4191\n",
      "Epoch 53/200\n",
      "256/256 [==============================] - 0s 856us/sample - loss: 2.9448 - acc: 0.5312 - cce: 0.6927 - ps: 1.2188\n",
      "Epoch 54/200\n",
      "256/256 [==============================] - 0s 872us/sample - loss: 2.9357 - acc: 0.5312 - cce: 0.6926 - ps: 1.1558\n",
      "Epoch 55/200\n",
      "256/256 [==============================] - 0s 858us/sample - loss: 2.9773 - acc: 0.5312 - cce: 0.6926 - ps: 1.4487\n",
      "Epoch 56/200\n",
      "256/256 [==============================] - 0s 848us/sample - loss: 2.9346 - acc: 0.5312 - cce: 0.6925 - ps: 1.1509\n",
      "Epoch 57/200\n",
      "256/256 [==============================] - 0s 846us/sample - loss: 2.8838 - acc: 0.5312 - cce: 0.6925 - ps: 0.7961\n",
      "Epoch 58/200\n",
      "256/256 [==============================] - 0s 858us/sample - loss: 2.9260 - acc: 0.5312 - cce: 0.6924 - ps: 1.0954\n",
      "Epoch 59/200\n",
      "256/256 [==============================] - 0s 869us/sample - loss: 2.9137 - acc: 0.5273 - cce: 0.6924 - ps: 1.0088\n",
      "Epoch 60/200\n",
      "256/256 [==============================] - 0s 855us/sample - loss: 2.8793 - acc: 0.5273 - cce: 0.6923 - ps: 0.7701\n",
      "Epoch 61/200\n",
      "256/256 [==============================] - 0s 894us/sample - loss: 2.9060 - acc: 0.5273 - cce: 0.6923 - ps: 0.9588\n",
      "Epoch 62/200\n",
      "256/256 [==============================] - 0s 881us/sample - loss: 2.9775 - acc: 0.5273 - cce: 0.6921 - ps: 1.4635\n",
      "Epoch 63/200\n",
      "256/256 [==============================] - 0s 874us/sample - loss: 2.9145 - acc: 0.5273 - cce: 0.6921 - ps: 1.0237\n",
      "Epoch 64/200\n"
     ]
    },
    {
     "name": "stdout",
     "output_type": "stream",
     "text": [
      "256/256 [==============================] - 0s 887us/sample - loss: 2.9064 - acc: 0.5312 - cce: 0.6919 - ps: 0.9712\n",
      "Epoch 65/200\n",
      "256/256 [==============================] - 0s 890us/sample - loss: 2.8823 - acc: 0.5312 - cce: 0.6919 - ps: 0.8036\n",
      "Epoch 66/200\n",
      "256/256 [==============================] - 0s 880us/sample - loss: 2.8425 - acc: 0.5312 - cce: 0.6919 - ps: 0.5257\n",
      "Epoch 67/200\n",
      "256/256 [==============================] - 0s 877us/sample - loss: 2.8886 - acc: 0.5312 - cce: 0.6918 - ps: 0.8492\n",
      "Epoch 68/200\n",
      "256/256 [==============================] - 0s 869us/sample - loss: 2.8879 - acc: 0.5312 - cce: 0.6918 - ps: 0.8449\n",
      "Epoch 69/200\n",
      "256/256 [==============================] - 0s 911us/sample - loss: 2.8758 - acc: 0.5312 - cce: 0.6919 - ps: 0.7567\n",
      "Epoch 70/200\n",
      "256/256 [==============================] - 0s 856us/sample - loss: 2.8908 - acc: 0.5312 - cce: 0.6919 - ps: 0.8616\n",
      "Epoch 71/200\n",
      "256/256 [==============================] - 0s 845us/sample - loss: 2.8695 - acc: 0.5312 - cce: 0.6919 - ps: 0.7143\n",
      "Epoch 72/200\n",
      "256/256 [==============================] - 0s 929us/sample - loss: 2.8980 - acc: 0.5312 - cce: 0.6918 - ps: 0.9152\n",
      "Epoch 73/200\n",
      "256/256 [==============================] - 0s 865us/sample - loss: 2.9145 - acc: 0.5312 - cce: 0.6918 - ps: 1.0312\n",
      "Epoch 74/200\n",
      "256/256 [==============================] - 0s 850us/sample - loss: 2.8490 - acc: 0.5312 - cce: 0.6918 - ps: 0.5737\n",
      "Epoch 75/200\n",
      "256/256 [==============================] - 0s 842us/sample - loss: 2.8374 - acc: 0.5312 - cce: 0.6917 - ps: 0.4933\n",
      "Epoch 76/200\n",
      "256/256 [==============================] - 0s 842us/sample - loss: 2.8964 - acc: 0.5312 - cce: 0.6917 - ps: 0.9079\n",
      "Epoch 77/200\n",
      "256/256 [==============================] - 0s 845us/sample - loss: 2.8524 - acc: 0.5312 - cce: 0.6917 - ps: 0.6004\n",
      "Epoch 78/200\n",
      "256/256 [==============================] - 0s 844us/sample - loss: 2.8855 - acc: 0.5312 - cce: 0.6916 - ps: 0.8330\n",
      "Epoch 79/200\n",
      "256/256 [==============================] - 0s 852us/sample - loss: 2.8967 - acc: 0.5312 - cce: 0.6919 - ps: 0.9040\n",
      "Epoch 80/200\n",
      "256/256 [==============================] - 0s 846us/sample - loss: 2.8666 - acc: 0.5312 - cce: 0.6919 - ps: 0.6942\n",
      "Epoch 81/200\n",
      "256/256 [==============================] - 0s 850us/sample - loss: 2.8488 - acc: 0.5312 - cce: 0.6918 - ps: 0.5703\n",
      "Epoch 82/200\n",
      "256/256 [==============================] - 0s 857us/sample - loss: 2.9042 - acc: 0.5312 - cce: 0.6918 - ps: 0.9588\n",
      "Epoch 83/200\n",
      "256/256 [==============================] - 0s 858us/sample - loss: 2.9212 - acc: 0.5312 - cce: 0.6918 - ps: 1.0784\n",
      "Epoch 84/200\n",
      "256/256 [==============================] - 0s 846us/sample - loss: 2.8943 - acc: 0.5312 - cce: 0.6918 - ps: 0.8906\n",
      "Epoch 85/200\n",
      "256/256 [==============================] - 0s 845us/sample - loss: 2.8319 - acc: 0.5312 - cce: 0.6917 - ps: 0.4554\n",
      "Epoch 86/200\n",
      "256/256 [==============================] - 0s 853us/sample - loss: 2.8117 - acc: 0.5312 - cce: 0.6917 - ps: 0.3147\n",
      "Epoch 87/200\n",
      "256/256 [==============================] - 0s 844us/sample - loss: 2.8418 - acc: 0.5312 - cce: 0.6916 - ps: 0.5268\n",
      "Epoch 88/200\n",
      "256/256 [==============================] - 0s 849us/sample - loss: 2.8646 - acc: 0.5312 - cce: 0.6916 - ps: 0.6875\n",
      "Epoch 89/200\n",
      "256/256 [==============================] - 0s 849us/sample - loss: 2.8629 - acc: 0.5312 - cce: 0.6916 - ps: 0.6763\n",
      "Epoch 90/200\n",
      "256/256 [==============================] - 0s 850us/sample - loss: 2.8255 - acc: 0.5312 - cce: 0.6915 - ps: 0.4152\n",
      "Epoch 91/200\n",
      "256/256 [==============================] - 0s 848us/sample - loss: 2.8980 - acc: 0.5312 - cce: 0.6915 - ps: 0.9241\n",
      "Epoch 92/200\n",
      "256/256 [==============================] - 0s 867us/sample - loss: 2.8338 - acc: 0.5312 - cce: 0.6915 - ps: 0.4754\n",
      "Epoch 93/200\n",
      "256/256 [==============================] - 0s 863us/sample - loss: 2.8250 - acc: 0.5312 - cce: 0.6914 - ps: 0.4152\n",
      "Epoch 94/200\n",
      "256/256 [==============================] - 0s 882us/sample - loss: 2.7992 - acc: 0.5312 - cce: 0.6914 - ps: 0.2344\n",
      "Epoch 95/200\n",
      "256/256 [==============================] - 0s 935us/sample - loss: 2.8085 - acc: 0.5312 - cce: 0.6914 - ps: 0.3014\n",
      "Epoch 96/200\n",
      "256/256 [==============================] - 0s 882us/sample - loss: 2.8119 - acc: 0.5312 - cce: 0.6913 - ps: 0.3259\n",
      "Epoch 97/200\n",
      "256/256 [==============================] - 0s 887us/sample - loss: 2.8433 - acc: 0.5312 - cce: 0.6913 - ps: 0.5469\n",
      "Epoch 98/200\n",
      "256/256 [==============================] - 0s 875us/sample - loss: 2.8530 - acc: 0.5312 - cce: 0.6913 - ps: 0.6161\n",
      "Epoch 99/200\n",
      "256/256 [==============================] - 0s 839us/sample - loss: 2.8540 - acc: 0.5312 - cce: 0.6912 - ps: 0.6228\n",
      "Epoch 100/200\n",
      "256/256 [==============================] - 0s 853us/sample - loss: 2.8498 - acc: 0.5312 - cce: 0.6912 - ps: 0.5950\n",
      "Epoch 101/200\n",
      "256/256 [==============================] - 0s 872us/sample - loss: 2.8141 - acc: 0.5312 - cce: 0.6912 - ps: 0.3460\n",
      "Epoch 102/200\n",
      "256/256 [==============================] - 0s 861us/sample - loss: 2.8708 - acc: 0.5312 - cce: 0.6911 - ps: 0.7433\n",
      "Epoch 103/200\n",
      "256/256 [==============================] - 0s 851us/sample - loss: 2.8382 - acc: 0.5312 - cce: 0.6911 - ps: 0.5156\n",
      "Epoch 104/200\n",
      "256/256 [==============================] - 0s 853us/sample - loss: 2.8169 - acc: 0.5312 - cce: 0.6911 - ps: 0.3683\n",
      "Epoch 105/200\n",
      "256/256 [==============================] - 0s 886us/sample - loss: 2.8235 - acc: 0.5312 - cce: 0.6911 - ps: 0.4152\n",
      "Epoch 106/200\n",
      "256/256 [==============================] - 0s 889us/sample - loss: 2.8291 - acc: 0.5312 - cce: 0.6910 - ps: 0.4554\n",
      "Epoch 107/200\n",
      "256/256 [==============================] - 0s 876us/sample - loss: 2.7990 - acc: 0.5312 - cce: 0.6910 - ps: 0.2455\n",
      "Epoch 108/200\n",
      "256/256 [==============================] - 0s 946us/sample - loss: 2.8432 - acc: 0.5352 - cce: 0.6907 - ps: 0.5625\n",
      "Epoch 109/200\n",
      "256/256 [==============================] - 0s 864us/sample - loss: 2.8316 - acc: 0.5352 - cce: 0.6907 - ps: 0.4821\n",
      "Epoch 110/200\n",
      "256/256 [==============================] - 0s 890us/sample - loss: 2.8109 - acc: 0.5352 - cce: 0.6907 - ps: 0.3371\n",
      "Epoch 111/200\n",
      "256/256 [==============================] - 0s 882us/sample - loss: 2.8200 - acc: 0.5352 - cce: 0.6907 - ps: 0.4018\n",
      "Epoch 112/200\n",
      "256/256 [==============================] - 0s 878us/sample - loss: 2.8123 - acc: 0.5352 - cce: 0.6906 - ps: 0.3482\n",
      "Epoch 113/200\n",
      "256/256 [==============================] - 0s 872us/sample - loss: 2.8143 - acc: 0.5352 - cce: 0.6907 - ps: 0.3616\n",
      "Epoch 114/200\n",
      "256/256 [==============================] - 0s 842us/sample - loss: 2.8362 - acc: 0.5352 - cce: 0.6906 - ps: 0.5156\n",
      "Epoch 115/200\n",
      "256/256 [==============================] - 0s 879us/sample - loss: 2.8406 - acc: 0.5352 - cce: 0.6906 - ps: 0.5469\n",
      "Epoch 116/200\n",
      "256/256 [==============================] - 0s 883us/sample - loss: 2.8314 - acc: 0.5352 - cce: 0.6906 - ps: 0.4826\n",
      "Epoch 117/200\n",
      "256/256 [==============================] - 0s 859us/sample - loss: 2.8520 - acc: 0.5352 - cce: 0.6906 - ps: 0.6272\n",
      "Epoch 118/200\n",
      "  8/256 [..............................] - ETA: 0s - loss: 2.6725 - acc: 0.7500 - cce: 0.6681 - ps: 0.0000e+00"
     ]
    }
   ],
   "source": [
    "model.fit([np.array(x_train_1s_8s_reshape)[:limit], y_train_1s_8s[:limit]],\n",
    "          y=None,\n",
    "          batch_size=batch_size,\n",
    "          epochs=epochs)"
   ]
  },
  {
   "cell_type": "code",
   "execution_count": null,
   "id": "ffe33452",
   "metadata": {},
   "outputs": [],
   "source": [
    "embed = tf.keras.Model(inputs=i, outputs=e)"
   ]
  },
  {
   "cell_type": "code",
   "execution_count": null,
   "id": "9e351734",
   "metadata": {},
   "outputs": [],
   "source": [
    "embed.layers[1].set_weights(model.layers[1].get_weights())\n",
    "activations_by_class = {}\n",
    "a = embed.predict(np.array(x_train_1s_8s_reshape))\n",
    "for i in tqdm(range(len(x_train_1s_8s_reshape[:limit]))):\n",
    "    try:\n",
    "        activations_by_class[np.argmax(y_train_1s_8s, axis=1)[i]] += np.squeeze(a[i])\n",
    "    except KeyError:\n",
    "        activations_by_class[np.argmax(y_train_1s_8s, axis=1)[i]] = np.squeeze(a[i])"
   ]
  },
  {
   "cell_type": "code",
   "execution_count": null,
   "id": "27ef5d7c",
   "metadata": {},
   "outputs": [],
   "source": [
    "fig = plt.figure(figsize=(20,20))\n",
    "for i,k in enumerate(activations_by_class.keys()):\n",
    "    y_pos = np.arange(len(activations_by_class[k]))\n",
    "    ax = fig.add_subplot(1, 2, i+1)\n",
    "    ax.set_title(k)\n",
    "    ax.barh(y_pos, np.squeeze(activations_by_class[k]), align='center')\n",
    "    ax.plot([0,0],[-1,len(np.squeeze(activations_by_class[k]))], 'k-')\n",
    "    ax.set_ylim(-1,len(np.squeeze(activations_by_class[k])))"
   ]
  },
  {
   "cell_type": "code",
   "execution_count": null,
   "id": "4a5b5998",
   "metadata": {},
   "outputs": [],
   "source": [
    "W = embed.layers[1].get_weights()\n",
    "fig = plt.figure(figsize=(20,20))\n",
    "dim = int(np.ceil(np.sqrt(n_hidden_neurons)))\n",
    "for j in range(n_hidden_neurons):\n",
    "  x_j = W[0][:,j] / np.sqrt(np.sum(np.dot(W[0][:,j], W[0][:,j].T)))\n",
    "  ax = fig.add_subplot(dim,dim,j+1)\n",
    "  ax.imshow(x_j.reshape((28,28)))\n",
    "  plt.axis('off')\n",
    "plt.show()"
   ]
  },
  {
   "cell_type": "code",
   "execution_count": null,
   "id": "b22e37a3",
   "metadata": {},
   "outputs": [],
   "source": []
  }
 ],
 "metadata": {
  "kernelspec": {
   "display_name": "Python 3 (ipykernel)",
   "language": "python",
   "name": "python3"
  },
  "language_info": {
   "codemirror_mode": {
    "name": "ipython",
    "version": 3
   },
   "file_extension": ".py",
   "mimetype": "text/x-python",
   "name": "python",
   "nbconvert_exporter": "python",
   "pygments_lexer": "ipython3",
   "version": "3.7.11"
  }
 },
 "nbformat": 4,
 "nbformat_minor": 5
}
