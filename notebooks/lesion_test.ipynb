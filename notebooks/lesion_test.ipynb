{
 "cells": [
  {
   "cell_type": "code",
   "execution_count": 15,
   "id": "7479291f",
   "metadata": {},
   "outputs": [],
   "source": [
    "import os\n",
    "import sys\n",
    "import itertools\n",
    "import matplotlib\n",
    "\n",
    "import numpy as np\n",
    "import tensorflow as tf\n",
    "import matplotlib.pyplot as plt\n",
    "import tensorflow.keras.backend as K\n",
    "\n",
    "sys.path.insert(0, './code')\n",
    "from utils.utils import get_flattened_mnist\n",
    "\n",
    "sys.path.insert(0, '../clusterability_in_neural_networks/')\n",
    "import src.lesion.experimentation as lesion\n",
    "\n",
    "from src.utils import compute_pvalue\n",
    "from src import spectral_cluster_model, train_nn\n",
    "from src.utils import (splitter, load_model2, preprocess_dataset,\n",
    "                       suppress, all_logging_disabled, extract_weights, compute_pvalue,\n",
    "                       get_weights_paths, get_model_paths, chi2_categorical_test,\n",
    "                       combine_ps)"
   ]
  },
  {
   "cell_type": "code",
   "execution_count": 2,
   "id": "64920fd5",
   "metadata": {},
   "outputs": [],
   "source": [
    "n_hidden_neurons = 256"
   ]
  },
  {
   "cell_type": "code",
   "execution_count": 12,
   "id": "b170a91d",
   "metadata": {},
   "outputs": [],
   "source": [
    "_, (x_test, y_test) = get_flattened_mnist()"
   ]
  },
  {
   "cell_type": "code",
   "execution_count": 4,
   "id": "dfcc4d2e",
   "metadata": {},
   "outputs": [
    {
     "name": "stderr",
     "output_type": "stream",
     "text": [
      "2022-06-07 19:37:52.201893: I tensorflow/core/platform/cpu_feature_guard.cc:142] Your CPU supports instructions that this TensorFlow binary was not compiled to use: AVX2 FMA\n",
      "2022-06-07 19:37:52.231601: I tensorflow/compiler/xla/service/service.cc:168] XLA service 0x7fc9a98d8100 initialized for platform Host (this does not guarantee that XLA will be used). Devices:\n",
      "2022-06-07 19:37:52.231650: I tensorflow/compiler/xla/service/service.cc:176]   StreamExecutor device (0): Host, Default Version\n"
     ]
    }
   ],
   "source": [
    "i = tf.keras.layers.Input(shape=(28*28,3), name='input')\n",
    "e1 = tf.keras.layers.Dense(n_hidden_neurons, activation='relu', name='dense_1')(i)\n",
    "e2 = tf.keras.layers.Dense(n_hidden_neurons, activation='relu', name='dense_2')(e1)\n",
    "e3 = tf.keras.layers.Dense(n_hidden_neurons, activation='relu', name='dense_3')(e2)\n",
    "e4 = tf.keras.layers.Dense(n_hidden_neurons, activation='relu', name='dense_4')(e3)\n",
    "o = tf.keras.layers.Dense(10, activation='softmax', name='softmax')(e4)\n",
    "model = tf.keras.Model(inputs=i, outputs=o)\n",
    "\n",
    "model.load_weights('/Users/dwright/dev/P3/polysemantic-neurons/experiments/mnist/alpha_1.0/trial_1/inference_model.h5')"
   ]
  },
  {
   "cell_type": "code",
   "execution_count": 8,
   "id": "b4621290",
   "metadata": {},
   "outputs": [],
   "source": [
    "weights, biases = extract_weights(model, with_bias=True)"
   ]
  },
  {
   "cell_type": "code",
   "execution_count": 17,
   "id": "91b126f7",
   "metadata": {},
   "outputs": [
    {
     "ename": "AttributeError",
     "evalue": "'Model' object has no attribute 'predict_classes'",
     "output_type": "error",
     "traceback": [
      "\u001b[0;31m---------------------------------------------------------------------------\u001b[0m",
      "\u001b[0;31mAttributeError\u001b[0m                            Traceback (most recent call last)",
      "\u001b[0;32m/var/folders/v4/sv47xgds2v5gnrw03x00sysc0000gr/T/ipykernel_64731/3176121680.py\u001b[0m in \u001b[0;36m<module>\u001b[0;34m\u001b[0m\n\u001b[0;32m----> 1\u001b[0;31m \u001b[0mevaluation\u001b[0m \u001b[0;34m=\u001b[0m \u001b[0mlesion\u001b[0m\u001b[0;34m.\u001b[0m\u001b[0m_evaluate\u001b[0m\u001b[0;34m(\u001b[0m\u001b[0mmodel\u001b[0m\u001b[0;34m,\u001b[0m \u001b[0mx_test\u001b[0m\u001b[0;34m,\u001b[0m \u001b[0my_test\u001b[0m\u001b[0;34m,\u001b[0m \u001b[0;34m'classification'\u001b[0m\u001b[0;34m)\u001b[0m\u001b[0;34m\u001b[0m\u001b[0;34m\u001b[0m\u001b[0m\n\u001b[0m",
      "\u001b[0;32m~/dev/P3/clusterability_in_neural_networks/src/lesion/experimentation.py\u001b[0m in \u001b[0;36m_evaluate\u001b[0;34m(model, X, y, task, masks)\u001b[0m\n\u001b[1;32m     46\u001b[0m         y_pred = (model.predict_classes(X, masks)\n\u001b[1;32m     47\u001b[0m                   \u001b[0;32mif\u001b[0m \u001b[0mmasks\u001b[0m \u001b[0;32mis\u001b[0m \u001b[0;32mnot\u001b[0m \u001b[0;32mNone\u001b[0m\u001b[0;34m\u001b[0m\u001b[0;34m\u001b[0m\u001b[0m\n\u001b[0;32m---> 48\u001b[0;31m                   else model.predict_classes(X))\n\u001b[0m\u001b[1;32m     49\u001b[0m \u001b[0;34m\u001b[0m\u001b[0m\n\u001b[1;32m     50\u001b[0m         \u001b[0;32mreturn\u001b[0m \u001b[0m_classification_metrics\u001b[0m\u001b[0;34m(\u001b[0m\u001b[0my\u001b[0m\u001b[0;34m,\u001b[0m \u001b[0my_pred\u001b[0m\u001b[0;34m)\u001b[0m\u001b[0;34m\u001b[0m\u001b[0;34m\u001b[0m\u001b[0m\n",
      "\u001b[0;31mAttributeError\u001b[0m: 'Model' object has no attribute 'predict_classes'"
     ]
    }
   ],
   "source": [
    "evaluation = lesion._evaluate(model, x_test, y_test, 'classification')"
   ]
  },
  {
   "cell_type": "code",
   "execution_count": null,
   "id": "23c8df33",
   "metadata": {},
   "outputs": [],
   "source": []
  }
 ],
 "metadata": {
  "kernelspec": {
   "display_name": "Python 3 (ipykernel)",
   "language": "python",
   "name": "python3"
  },
  "language_info": {
   "codemirror_mode": {
    "name": "ipython",
    "version": 3
   },
   "file_extension": ".py",
   "mimetype": "text/x-python",
   "name": "python",
   "nbconvert_exporter": "python",
   "pygments_lexer": "ipython3",
   "version": "3.7.13"
  }
 },
 "nbformat": 4,
 "nbformat_minor": 5
}
